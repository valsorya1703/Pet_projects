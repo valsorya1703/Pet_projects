{
 "cells": [
  {
   "cell_type": "markdown",
   "id": "400f4404",
   "metadata": {
    "toc": true
   },
   "source": [
    "<h1>Table of Contents<span class=\"tocSkip\"></span></h1>\n",
    "<div class=\"toc\"><ul class=\"toc-item\"><li><span><a href=\"#Загрузка-данных\" data-toc-modified-id=\"Загрузка-данных-1\"><span class=\"toc-item-num\">1&nbsp;&nbsp;</span>Загрузка данных</a></span><ul class=\"toc-item\"><li><span><a href=\"#Промежуточные-выводы\" data-toc-modified-id=\"Промежуточные-выводы-1.1\"><span class=\"toc-item-num\">1.1&nbsp;&nbsp;</span>Промежуточные выводы</a></span></li></ul></li><li><span><a href=\"#Предобработка-данных\" data-toc-modified-id=\"Предобработка-данных-2\"><span class=\"toc-item-num\">2&nbsp;&nbsp;</span>Предобработка данных</a></span><ul class=\"toc-item\"><li><span><a href=\"#Приведение-столбца-к-типу-datetime\" data-toc-modified-id=\"Приведение-столбца-к-типу-datetime-2.1\"><span class=\"toc-item-num\">2.1&nbsp;&nbsp;</span>Приведение столбца к типу <code>datetime</code></a></span></li><li><span><a href=\"#Создание-нового-столбца\" data-toc-modified-id=\"Создание-нового-столбца-2.2\"><span class=\"toc-item-num\">2.2&nbsp;&nbsp;</span>Создание нового столбца</a></span></li><li><span><a href=\"#Проверка-на-дубликаты\" data-toc-modified-id=\"Проверка-на-дубликаты-2.3\"><span class=\"toc-item-num\">2.3&nbsp;&nbsp;</span>Проверка на дубликаты</a></span></li><li><span><a href=\"#Промежуточные-выводы\" data-toc-modified-id=\"Промежуточные-выводы-2.4\"><span class=\"toc-item-num\">2.4&nbsp;&nbsp;</span>Промежуточные выводы</a></span></li></ul></li><li><span><a href=\"#Исследовательский-анализ-данных\" data-toc-modified-id=\"Исследовательский-анализ-данных-3\"><span class=\"toc-item-num\">3&nbsp;&nbsp;</span>Исследовательский анализ данных</a></span><ul class=\"toc-item\"><li><span><a href=\"#Частота-встречаемости-городов\" data-toc-modified-id=\"Частота-встречаемости-городов-3.1\"><span class=\"toc-item-num\">3.1&nbsp;&nbsp;</span>Частота встречаемости городов</a></span></li><li><span><a href=\"#Соотношение-пользователей-с-подпиской-и-без-подписки\" data-toc-modified-id=\"Соотношение-пользователей-с-подпиской-и-без-подписки-3.2\"><span class=\"toc-item-num\">3.2&nbsp;&nbsp;</span>Соотношение пользователей с подпиской и без подписки</a></span></li><li><span><a href=\"#Возраст-пользователей\" data-toc-modified-id=\"Возраст-пользователей-3.3\"><span class=\"toc-item-num\">3.3&nbsp;&nbsp;</span>Возраст пользователей</a></span></li><li><span><a href=\"#Расстояние-поездок\" data-toc-modified-id=\"Расстояние-поездок-3.4\"><span class=\"toc-item-num\">3.4&nbsp;&nbsp;</span>Расстояние поездок</a></span></li><li><span><a href=\"#Продолжительность-поездок\" data-toc-modified-id=\"Продолжительность-поездок-3.5\"><span class=\"toc-item-num\">3.5&nbsp;&nbsp;</span>Продолжительность поездок</a></span></li><li><span><a href=\"#Промежуточные-выводы\" data-toc-modified-id=\"Промежуточные-выводы-3.6\"><span class=\"toc-item-num\">3.6&nbsp;&nbsp;</span>Промежуточные выводы</a></span></li></ul></li><li><span><a href=\"#Объединение-данных\" data-toc-modified-id=\"Объединение-данных-4\"><span class=\"toc-item-num\">4&nbsp;&nbsp;</span>Объединение данных</a></span><ul class=\"toc-item\"><li><span><a href=\"#Объединение-датафреймов\" data-toc-modified-id=\"Объединение-датафреймов-4.1\"><span class=\"toc-item-num\">4.1&nbsp;&nbsp;</span>Объединение датафреймов</a></span></li><li><span><a href=\"#Разделение-по-типу-подписки\" data-toc-modified-id=\"Разделение-по-типу-подписки-4.2\"><span class=\"toc-item-num\">4.2&nbsp;&nbsp;</span>Разделение по типу подписки</a></span></li><li><span><a href=\"#Сравнение-по-расстоянию-и-продолжительности\" data-toc-modified-id=\"Сравнение-по-расстоянию-и-продолжительности-4.3\"><span class=\"toc-item-num\">4.3&nbsp;&nbsp;</span>Сравнение по расстоянию и продолжительности</a></span></li></ul></li><li><span><a href=\"#Подсчет-выручки\" data-toc-modified-id=\"Подсчет-выручки-5\"><span class=\"toc-item-num\">5&nbsp;&nbsp;</span>Подсчет выручки</a></span><ul class=\"toc-item\"><li><span><a href=\"#Создание-сводной-таблицы\" data-toc-modified-id=\"Создание-сводной-таблицы-5.1\"><span class=\"toc-item-num\">5.1&nbsp;&nbsp;</span>Создание сводной таблицы</a></span></li><li><span><a href=\"#Создание-столбца-с-помесячной-выручкой\" data-toc-modified-id=\"Создание-столбца-с-помесячной-выручкой-5.2\"><span class=\"toc-item-num\">5.2&nbsp;&nbsp;</span>Создание столбца с помесячной выручкой</a></span></li></ul></li><li><span><a href=\"#Проверка-гипотез\" data-toc-modified-id=\"Проверка-гипотез-6\"><span class=\"toc-item-num\">6&nbsp;&nbsp;</span>Проверка гипотез</a></span><ul class=\"toc-item\"><li><span><a href=\"#Пользователи-с-подпиской-тратят-больше-времени-на-поездки\" data-toc-modified-id=\"Пользователи-с-подпиской-тратят-больше-времени-на-поездки-6.1\"><span class=\"toc-item-num\">6.1&nbsp;&nbsp;</span>Пользователи с подпиской тратят больше времени на поездки</a></span></li><li><span><a href=\"#Среднее-расстояние,-которое-проезжают-пользователи-с-подпиской-за-одну-поездку,-не-превышает-3130-метров\" data-toc-modified-id=\"Среднее-расстояние,-которое-проезжают-пользователи-с-подпиской-за-одну-поездку,-не-превышает-3130-метров-6.2\"><span class=\"toc-item-num\">6.2&nbsp;&nbsp;</span>Среднее расстояние, которое проезжают пользователи с подпиской за одну поездку, не превышает 3130 метров</a></span></li><li><span><a href=\"#Помесячная-выручка-от-пользователей-с-подпиской-по-месяцам-выше,-чем-выручка-от-пользователей-без-подписки\" data-toc-modified-id=\"Помесячная-выручка-от-пользователей-с-подпиской-по-месяцам-выше,-чем-выручка-от-пользователей-без-подписки-6.3\"><span class=\"toc-item-num\">6.3&nbsp;&nbsp;</span>Помесячная выручка от пользователей с подпиской по месяцам выше, чем выручка от пользователей без подписки</a></span></li><li><span><a href=\"#Обновление-сервера\" data-toc-modified-id=\"Обновление-сервера-6.4\"><span class=\"toc-item-num\">6.4&nbsp;&nbsp;</span>Обновление сервера</a></span></li></ul></li><li><span><a href=\"#Распределения\" data-toc-modified-id=\"Распределения-7\"><span class=\"toc-item-num\">7&nbsp;&nbsp;</span>Распределения</a></span><ul class=\"toc-item\"><li><span><a href=\"#Раздача-промокодов\" data-toc-modified-id=\"Раздача-промокодов-7.1\"><span class=\"toc-item-num\">7.1&nbsp;&nbsp;</span>Раздача промокодов</a></span></li><li><span><a href=\"#Push-уведомления\" data-toc-modified-id=\"Push-уведомления-7.2\"><span class=\"toc-item-num\">7.2&nbsp;&nbsp;</span>Push-уведомления</a></span></li></ul></li><li><span><a href=\"#Общие-выводы\" data-toc-modified-id=\"Общие-выводы-8\"><span class=\"toc-item-num\">8&nbsp;&nbsp;</span>Общие выводы</a></span></li></ul></div>"
   ]
  },
  {
   "cell_type": "markdown",
   "id": "85005f6d",
   "metadata": {},
   "source": [
    "# Исследование сервиса аренды самокатов"
   ]
  },
  {
   "cell_type": "markdown",
   "id": "e70adbd2",
   "metadata": {},
   "source": [
    "Целью исследования является анализ популярного сервиса аренды самокатов GoFast.\n",
    "Были поставлены следующие задачи:\n",
    "<ul type=\"disc\">\n",
    "     <li>предобработка данных;</li>\n",
    "<li>исследовательский анализ данных;</li>\n",
    "<li>объединение данных;</li>\n",
    "<li>подсчет помесячной выручки для каждого пользователя;</li>\n",
    "<li>проверка гипотез для предполагаемых акций;</li>\n",
    "<li>построение распределений для рекомендаций отделу макретинга;</li>\n",
    "<li>формирование общих выводов всего исследования.</li> "
   ]
  },
  {
   "cell_type": "markdown",
   "id": "ae21fb7e",
   "metadata": {},
   "source": [
    "## Загрузка данных"
   ]
  },
  {
   "cell_type": "markdown",
   "id": "4f2aba13",
   "metadata": {},
   "source": [
    "Импортируем необходимые для работы библиотеки."
   ]
  },
  {
   "cell_type": "code",
   "execution_count": 1,
   "id": "f14d5ccc",
   "metadata": {},
   "outputs": [],
   "source": [
    "import pandas as pd\n",
    "import seaborn as sns\n",
    "import numpy as np\n",
    "from matplotlib import pyplot as plt\n",
    "import datetime as dt\n",
    "from plotly import graph_objects as go\n",
    "import plotly.express as px\n",
    "from scipy import stats as st\n",
    "from scipy.stats import binom, norm\n",
    "from math import sqrt"
   ]
  },
  {
   "cell_type": "markdown",
   "id": "0877f124",
   "metadata": {},
   "source": [
    "Загрузим датафреймы и изучим информацию о них."
   ]
  },
  {
   "cell_type": "markdown",
   "id": "2cba7a45",
   "metadata": {},
   "source": [
    "__Пользователи__:\n",
    "- `user_id` - уникальный идентификатор пользователя;\n",
    "- `name` - имя пользователя;\n",
    "- `age`\t- возраст;\n",
    "- `city` - город;\n",
    "- `subscription_type` - тип подписки (free, ultra)."
   ]
  },
  {
   "cell_type": "code",
   "execution_count": 2,
   "id": "8bfdfc6e",
   "metadata": {},
   "outputs": [
    {
     "data": {
      "text/html": [
       "<div>\n",
       "<style scoped>\n",
       "    .dataframe tbody tr th:only-of-type {\n",
       "        vertical-align: middle;\n",
       "    }\n",
       "\n",
       "    .dataframe tbody tr th {\n",
       "        vertical-align: top;\n",
       "    }\n",
       "\n",
       "    .dataframe thead th {\n",
       "        text-align: right;\n",
       "    }\n",
       "</style>\n",
       "<table border=\"1\" class=\"dataframe\">\n",
       "  <thead>\n",
       "    <tr style=\"text-align: right;\">\n",
       "      <th></th>\n",
       "      <th>user_id</th>\n",
       "      <th>name</th>\n",
       "      <th>age</th>\n",
       "      <th>city</th>\n",
       "      <th>subscription_type</th>\n",
       "    </tr>\n",
       "  </thead>\n",
       "  <tbody>\n",
       "    <tr>\n",
       "      <th>0</th>\n",
       "      <td>1</td>\n",
       "      <td>Кира</td>\n",
       "      <td>22</td>\n",
       "      <td>Тюмень</td>\n",
       "      <td>ultra</td>\n",
       "    </tr>\n",
       "    <tr>\n",
       "      <th>1</th>\n",
       "      <td>2</td>\n",
       "      <td>Станислав</td>\n",
       "      <td>31</td>\n",
       "      <td>Омск</td>\n",
       "      <td>ultra</td>\n",
       "    </tr>\n",
       "    <tr>\n",
       "      <th>2</th>\n",
       "      <td>3</td>\n",
       "      <td>Алексей</td>\n",
       "      <td>20</td>\n",
       "      <td>Москва</td>\n",
       "      <td>ultra</td>\n",
       "    </tr>\n",
       "    <tr>\n",
       "      <th>3</th>\n",
       "      <td>4</td>\n",
       "      <td>Константин</td>\n",
       "      <td>26</td>\n",
       "      <td>Ростов-на-Дону</td>\n",
       "      <td>ultra</td>\n",
       "    </tr>\n",
       "    <tr>\n",
       "      <th>4</th>\n",
       "      <td>5</td>\n",
       "      <td>Адель</td>\n",
       "      <td>28</td>\n",
       "      <td>Омск</td>\n",
       "      <td>ultra</td>\n",
       "    </tr>\n",
       "  </tbody>\n",
       "</table>\n",
       "</div>"
      ],
      "text/plain": [
       "   user_id        name  age            city subscription_type\n",
       "0        1        Кира   22          Тюмень             ultra\n",
       "1        2   Станислав   31            Омск             ultra\n",
       "2        3     Алексей   20          Москва             ultra\n",
       "3        4  Константин   26  Ростов-на-Дону             ultra\n",
       "4        5       Адель   28            Омск             ultra"
      ]
     },
     "execution_count": 2,
     "metadata": {},
     "output_type": "execute_result"
    }
   ],
   "source": [
    "try:\n",
    "    users = pd.read_csv('datasets/users_go.csv')\n",
    "except:\n",
    "    users = pd.read_csv('/datasets/users_go.csv')\n",
    "users.head()"
   ]
  },
  {
   "cell_type": "code",
   "execution_count": 3,
   "id": "e62a8b91",
   "metadata": {},
   "outputs": [
    {
     "name": "stdout",
     "output_type": "stream",
     "text": [
      "<class 'pandas.core.frame.DataFrame'>\n",
      "RangeIndex: 1565 entries, 0 to 1564\n",
      "Data columns (total 5 columns):\n",
      " #   Column             Non-Null Count  Dtype \n",
      "---  ------             --------------  ----- \n",
      " 0   user_id            1565 non-null   int64 \n",
      " 1   name               1565 non-null   object\n",
      " 2   age                1565 non-null   int64 \n",
      " 3   city               1565 non-null   object\n",
      " 4   subscription_type  1565 non-null   object\n",
      "dtypes: int64(2), object(3)\n",
      "memory usage: 61.3+ KB\n"
     ]
    }
   ],
   "source": [
    "users.info()"
   ]
  },
  {
   "cell_type": "markdown",
   "id": "2ac8a899",
   "metadata": {},
   "source": [
    "__Поездки__:\n",
    "- `user_id` - уникальный идентификатор пользователя;\n",
    "- `distance` - расстояние, которое пользователь проехал в текущей сессии (в метрах);\n",
    "- `duration` - продолжительность сессии (в минутах) — время с того момента, как пользователь нажал кнопку «Начать поездку» до момента, как он нажал кнопку «Завершить поездку»;\n",
    "- `date` - дата совершения поездки."
   ]
  },
  {
   "cell_type": "code",
   "execution_count": 4,
   "id": "6f00d0d1",
   "metadata": {},
   "outputs": [
    {
     "data": {
      "text/html": [
       "<div>\n",
       "<style scoped>\n",
       "    .dataframe tbody tr th:only-of-type {\n",
       "        vertical-align: middle;\n",
       "    }\n",
       "\n",
       "    .dataframe tbody tr th {\n",
       "        vertical-align: top;\n",
       "    }\n",
       "\n",
       "    .dataframe thead th {\n",
       "        text-align: right;\n",
       "    }\n",
       "</style>\n",
       "<table border=\"1\" class=\"dataframe\">\n",
       "  <thead>\n",
       "    <tr style=\"text-align: right;\">\n",
       "      <th></th>\n",
       "      <th>user_id</th>\n",
       "      <th>distance</th>\n",
       "      <th>duration</th>\n",
       "      <th>date</th>\n",
       "    </tr>\n",
       "  </thead>\n",
       "  <tbody>\n",
       "    <tr>\n",
       "      <th>0</th>\n",
       "      <td>1</td>\n",
       "      <td>4409.919140</td>\n",
       "      <td>25.599769</td>\n",
       "      <td>2021-01-01</td>\n",
       "    </tr>\n",
       "    <tr>\n",
       "      <th>1</th>\n",
       "      <td>1</td>\n",
       "      <td>2617.592153</td>\n",
       "      <td>15.816871</td>\n",
       "      <td>2021-01-18</td>\n",
       "    </tr>\n",
       "    <tr>\n",
       "      <th>2</th>\n",
       "      <td>1</td>\n",
       "      <td>754.159807</td>\n",
       "      <td>6.232113</td>\n",
       "      <td>2021-04-20</td>\n",
       "    </tr>\n",
       "    <tr>\n",
       "      <th>3</th>\n",
       "      <td>1</td>\n",
       "      <td>2694.783254</td>\n",
       "      <td>18.511000</td>\n",
       "      <td>2021-08-11</td>\n",
       "    </tr>\n",
       "    <tr>\n",
       "      <th>4</th>\n",
       "      <td>1</td>\n",
       "      <td>4028.687306</td>\n",
       "      <td>26.265803</td>\n",
       "      <td>2021-08-28</td>\n",
       "    </tr>\n",
       "  </tbody>\n",
       "</table>\n",
       "</div>"
      ],
      "text/plain": [
       "   user_id     distance   duration        date\n",
       "0        1  4409.919140  25.599769  2021-01-01\n",
       "1        1  2617.592153  15.816871  2021-01-18\n",
       "2        1   754.159807   6.232113  2021-04-20\n",
       "3        1  2694.783254  18.511000  2021-08-11\n",
       "4        1  4028.687306  26.265803  2021-08-28"
      ]
     },
     "execution_count": 4,
     "metadata": {},
     "output_type": "execute_result"
    }
   ],
   "source": [
    "try:\n",
    "    rides = pd.read_csv('datasets/rides_go.csv')\n",
    "except:\n",
    "    rides = pd.read_csv('/datasets/rides_go.csv')\n",
    "rides.head()"
   ]
  },
  {
   "cell_type": "code",
   "execution_count": 5,
   "id": "64c01383",
   "metadata": {},
   "outputs": [
    {
     "name": "stdout",
     "output_type": "stream",
     "text": [
      "<class 'pandas.core.frame.DataFrame'>\n",
      "RangeIndex: 18068 entries, 0 to 18067\n",
      "Data columns (total 4 columns):\n",
      " #   Column    Non-Null Count  Dtype  \n",
      "---  ------    --------------  -----  \n",
      " 0   user_id   18068 non-null  int64  \n",
      " 1   distance  18068 non-null  float64\n",
      " 2   duration  18068 non-null  float64\n",
      " 3   date      18068 non-null  object \n",
      "dtypes: float64(2), int64(1), object(1)\n",
      "memory usage: 564.8+ KB\n"
     ]
    }
   ],
   "source": [
    "rides.info()"
   ]
  },
  {
   "cell_type": "markdown",
   "id": "82d4860f",
   "metadata": {},
   "source": [
    "__Поездки__:\n",
    "- `subscription_type` - тип подписки;\n",
    "- `minute_price` - стоимость одной минуты поездки по данной подписке;\n",
    "- `start_ride_price` - стоимость начала поездки;\n",
    "- `subscription_fee` - стоимость ежемесячного платежа."
   ]
  },
  {
   "cell_type": "code",
   "execution_count": 6,
   "id": "50e3bbcd",
   "metadata": {
    "code_folding": []
   },
   "outputs": [
    {
     "data": {
      "text/html": [
       "<div>\n",
       "<style scoped>\n",
       "    .dataframe tbody tr th:only-of-type {\n",
       "        vertical-align: middle;\n",
       "    }\n",
       "\n",
       "    .dataframe tbody tr th {\n",
       "        vertical-align: top;\n",
       "    }\n",
       "\n",
       "    .dataframe thead th {\n",
       "        text-align: right;\n",
       "    }\n",
       "</style>\n",
       "<table border=\"1\" class=\"dataframe\">\n",
       "  <thead>\n",
       "    <tr style=\"text-align: right;\">\n",
       "      <th></th>\n",
       "      <th>subscription_type</th>\n",
       "      <th>minute_price</th>\n",
       "      <th>start_ride_price</th>\n",
       "      <th>subscription_fee</th>\n",
       "    </tr>\n",
       "  </thead>\n",
       "  <tbody>\n",
       "    <tr>\n",
       "      <th>0</th>\n",
       "      <td>free</td>\n",
       "      <td>8</td>\n",
       "      <td>50</td>\n",
       "      <td>0</td>\n",
       "    </tr>\n",
       "    <tr>\n",
       "      <th>1</th>\n",
       "      <td>ultra</td>\n",
       "      <td>6</td>\n",
       "      <td>0</td>\n",
       "      <td>199</td>\n",
       "    </tr>\n",
       "  </tbody>\n",
       "</table>\n",
       "</div>"
      ],
      "text/plain": [
       "  subscription_type  minute_price  start_ride_price  subscription_fee\n",
       "0              free             8                50                 0\n",
       "1             ultra             6                 0               199"
      ]
     },
     "execution_count": 6,
     "metadata": {},
     "output_type": "execute_result"
    }
   ],
   "source": [
    "try:\n",
    "    subs = pd.read_csv('datasets/subscriptions_go.csv')\n",
    "except:\n",
    "    subs = pd.read_csv('/datasets/subscriptions_go.csv')\n",
    "subs.head()"
   ]
  },
  {
   "cell_type": "code",
   "execution_count": 7,
   "id": "19ada82c",
   "metadata": {},
   "outputs": [
    {
     "name": "stdout",
     "output_type": "stream",
     "text": [
      "<class 'pandas.core.frame.DataFrame'>\n",
      "RangeIndex: 2 entries, 0 to 1\n",
      "Data columns (total 4 columns):\n",
      " #   Column             Non-Null Count  Dtype \n",
      "---  ------             --------------  ----- \n",
      " 0   subscription_type  2 non-null      object\n",
      " 1   minute_price       2 non-null      int64 \n",
      " 2   start_ride_price   2 non-null      int64 \n",
      " 3   subscription_fee   2 non-null      int64 \n",
      "dtypes: int64(3), object(1)\n",
      "memory usage: 196.0+ bytes\n"
     ]
    }
   ],
   "source": [
    "subs.info()"
   ]
  },
  {
   "cell_type": "markdown",
   "id": "db0de4f4",
   "metadata": {},
   "source": [
    "### Промежуточные выводы"
   ]
  },
  {
   "cell_type": "markdown",
   "id": "336c5dd5",
   "metadata": {},
   "source": [
    "- импортированы необходимые библиотеки;\n",
    "- изучена информация о датасетах;\n",
    "- выявлено отсутвие пропусков."
   ]
  },
  {
   "cell_type": "markdown",
   "id": "65ae054b",
   "metadata": {},
   "source": [
    "## Предобработка данных"
   ]
  },
  {
   "cell_type": "markdown",
   "id": "f36c3bb2",
   "metadata": {},
   "source": [
    "### Приведение столбца к типу `datetime`"
   ]
  },
  {
   "cell_type": "markdown",
   "id": "af5b98ff",
   "metadata": {},
   "source": [
    "Изменим тип данных на `datetime` в столбце с датой поездки."
   ]
  },
  {
   "cell_type": "code",
   "execution_count": 8,
   "id": "f5ae4b5f",
   "metadata": {},
   "outputs": [],
   "source": [
    "rides['date'] = pd.to_datetime(rides['date'])"
   ]
  },
  {
   "cell_type": "code",
   "execution_count": 9,
   "id": "cc7ac653",
   "metadata": {},
   "outputs": [
    {
     "name": "stdout",
     "output_type": "stream",
     "text": [
      "<class 'pandas.core.frame.DataFrame'>\n",
      "RangeIndex: 18068 entries, 0 to 18067\n",
      "Data columns (total 4 columns):\n",
      " #   Column    Non-Null Count  Dtype         \n",
      "---  ------    --------------  -----         \n",
      " 0   user_id   18068 non-null  int64         \n",
      " 1   distance  18068 non-null  float64       \n",
      " 2   duration  18068 non-null  float64       \n",
      " 3   date      18068 non-null  datetime64[ns]\n",
      "dtypes: datetime64[ns](1), float64(2), int64(1)\n",
      "memory usage: 564.8 KB\n"
     ]
    }
   ],
   "source": [
    "rides.info()"
   ]
  },
  {
   "cell_type": "markdown",
   "id": "a8efd833",
   "metadata": {},
   "source": [
    "### Создание нового столбца"
   ]
  },
  {
   "cell_type": "markdown",
   "id": "6c4c2479",
   "metadata": {},
   "source": [
    "Выделим номер месяца в отдельный столбец."
   ]
  },
  {
   "cell_type": "code",
   "execution_count": 10,
   "id": "28cab065",
   "metadata": {},
   "outputs": [
    {
     "data": {
      "text/html": [
       "<div>\n",
       "<style scoped>\n",
       "    .dataframe tbody tr th:only-of-type {\n",
       "        vertical-align: middle;\n",
       "    }\n",
       "\n",
       "    .dataframe tbody tr th {\n",
       "        vertical-align: top;\n",
       "    }\n",
       "\n",
       "    .dataframe thead th {\n",
       "        text-align: right;\n",
       "    }\n",
       "</style>\n",
       "<table border=\"1\" class=\"dataframe\">\n",
       "  <thead>\n",
       "    <tr style=\"text-align: right;\">\n",
       "      <th></th>\n",
       "      <th>user_id</th>\n",
       "      <th>distance</th>\n",
       "      <th>duration</th>\n",
       "      <th>date</th>\n",
       "      <th>month</th>\n",
       "    </tr>\n",
       "  </thead>\n",
       "  <tbody>\n",
       "    <tr>\n",
       "      <th>0</th>\n",
       "      <td>1</td>\n",
       "      <td>4409.919140</td>\n",
       "      <td>25.599769</td>\n",
       "      <td>2021-01-01</td>\n",
       "      <td>1</td>\n",
       "    </tr>\n",
       "    <tr>\n",
       "      <th>1</th>\n",
       "      <td>1</td>\n",
       "      <td>2617.592153</td>\n",
       "      <td>15.816871</td>\n",
       "      <td>2021-01-18</td>\n",
       "      <td>1</td>\n",
       "    </tr>\n",
       "    <tr>\n",
       "      <th>2</th>\n",
       "      <td>1</td>\n",
       "      <td>754.159807</td>\n",
       "      <td>6.232113</td>\n",
       "      <td>2021-04-20</td>\n",
       "      <td>4</td>\n",
       "    </tr>\n",
       "    <tr>\n",
       "      <th>3</th>\n",
       "      <td>1</td>\n",
       "      <td>2694.783254</td>\n",
       "      <td>18.511000</td>\n",
       "      <td>2021-08-11</td>\n",
       "      <td>8</td>\n",
       "    </tr>\n",
       "    <tr>\n",
       "      <th>4</th>\n",
       "      <td>1</td>\n",
       "      <td>4028.687306</td>\n",
       "      <td>26.265803</td>\n",
       "      <td>2021-08-28</td>\n",
       "      <td>8</td>\n",
       "    </tr>\n",
       "  </tbody>\n",
       "</table>\n",
       "</div>"
      ],
      "text/plain": [
       "   user_id     distance   duration       date  month\n",
       "0        1  4409.919140  25.599769 2021-01-01      1\n",
       "1        1  2617.592153  15.816871 2021-01-18      1\n",
       "2        1   754.159807   6.232113 2021-04-20      4\n",
       "3        1  2694.783254  18.511000 2021-08-11      8\n",
       "4        1  4028.687306  26.265803 2021-08-28      8"
      ]
     },
     "execution_count": 10,
     "metadata": {},
     "output_type": "execute_result"
    }
   ],
   "source": [
    "rides['month'] = rides['date'].dt.month\n",
    "rides.head()"
   ]
  },
  {
   "cell_type": "markdown",
   "id": "60ba774e",
   "metadata": {},
   "source": [
    "### Проверка на дубликаты"
   ]
  },
  {
   "cell_type": "markdown",
   "id": "6dafca28",
   "metadata": {},
   "source": [
    "Проверим датасеты на отсутствие дупликатов."
   ]
  },
  {
   "cell_type": "code",
   "execution_count": 11,
   "id": "ce2a5ef0",
   "metadata": {},
   "outputs": [
    {
     "data": {
      "text/plain": [
       "31"
      ]
     },
     "execution_count": 11,
     "metadata": {},
     "output_type": "execute_result"
    }
   ],
   "source": [
    "users.duplicated().sum()"
   ]
  },
  {
   "cell_type": "markdown",
   "id": "68f8f783",
   "metadata": {},
   "source": [
    "Избавимся от дубликатов в датасете."
   ]
  },
  {
   "cell_type": "code",
   "execution_count": 12,
   "id": "0f01a6f6",
   "metadata": {},
   "outputs": [],
   "source": [
    "users = users.drop_duplicates().reset_index(drop=True)"
   ]
  },
  {
   "cell_type": "code",
   "execution_count": 13,
   "id": "9deb0a68",
   "metadata": {},
   "outputs": [
    {
     "data": {
      "text/plain": [
       "0"
      ]
     },
     "execution_count": 13,
     "metadata": {},
     "output_type": "execute_result"
    }
   ],
   "source": [
    "rides.duplicated().sum()"
   ]
  },
  {
   "cell_type": "code",
   "execution_count": 14,
   "id": "358e6a5c",
   "metadata": {},
   "outputs": [
    {
     "data": {
      "text/plain": [
       "0"
      ]
     },
     "execution_count": 14,
     "metadata": {},
     "output_type": "execute_result"
    }
   ],
   "source": [
    "subs.duplicated().sum()"
   ]
  },
  {
   "cell_type": "markdown",
   "id": "289a32ef",
   "metadata": {},
   "source": [
    "### Промежуточные выводы"
   ]
  },
  {
   "cell_type": "markdown",
   "id": "c812ecad",
   "metadata": {},
   "source": [
    "- датасеты очищены от дубликатов;\n",
    "- создан столбец с номером месяца."
   ]
  },
  {
   "cell_type": "markdown",
   "id": "d7d23fd0",
   "metadata": {},
   "source": [
    "## Исследовательский анализ данных"
   ]
  },
  {
   "cell_type": "markdown",
   "id": "63aaf0e9",
   "metadata": {},
   "source": [
    "Визуализируем значения из различных столбцов датасета."
   ]
  },
  {
   "cell_type": "markdown",
   "id": "1b9ac3b4",
   "metadata": {},
   "source": [
    "### Частота встречаемости городов"
   ]
  },
  {
   "cell_type": "markdown",
   "id": "5fac7e69",
   "metadata": {},
   "source": [
    "Определим, из какого города наибольшее количество пользователей."
   ]
  },
  {
   "cell_type": "code",
   "execution_count": 25,
   "id": "9f331acd",
   "metadata": {},
   "outputs": [
    {
     "data": {
      "text/html": [
       "<div>\n",
       "<style scoped>\n",
       "    .dataframe tbody tr th:only-of-type {\n",
       "        vertical-align: middle;\n",
       "    }\n",
       "\n",
       "    .dataframe tbody tr th {\n",
       "        vertical-align: top;\n",
       "    }\n",
       "\n",
       "    .dataframe thead th {\n",
       "        text-align: right;\n",
       "    }\n",
       "</style>\n",
       "<table border=\"1\" class=\"dataframe\">\n",
       "  <thead>\n",
       "    <tr style=\"text-align: right;\">\n",
       "      <th></th>\n",
       "      <th>city</th>\n",
       "      <th>count</th>\n",
       "    </tr>\n",
       "  </thead>\n",
       "  <tbody>\n",
       "    <tr>\n",
       "      <th>0</th>\n",
       "      <td>Пятигорск</td>\n",
       "      <td>219</td>\n",
       "    </tr>\n",
       "    <tr>\n",
       "      <th>1</th>\n",
       "      <td>Екатеринбург</td>\n",
       "      <td>204</td>\n",
       "    </tr>\n",
       "    <tr>\n",
       "      <th>2</th>\n",
       "      <td>Ростов-на-Дону</td>\n",
       "      <td>198</td>\n",
       "    </tr>\n",
       "    <tr>\n",
       "      <th>3</th>\n",
       "      <td>Краснодар</td>\n",
       "      <td>193</td>\n",
       "    </tr>\n",
       "    <tr>\n",
       "      <th>4</th>\n",
       "      <td>Сочи</td>\n",
       "      <td>189</td>\n",
       "    </tr>\n",
       "    <tr>\n",
       "      <th>5</th>\n",
       "      <td>Омск</td>\n",
       "      <td>183</td>\n",
       "    </tr>\n",
       "    <tr>\n",
       "      <th>6</th>\n",
       "      <td>Тюмень</td>\n",
       "      <td>180</td>\n",
       "    </tr>\n",
       "    <tr>\n",
       "      <th>7</th>\n",
       "      <td>Москва</td>\n",
       "      <td>168</td>\n",
       "    </tr>\n",
       "  </tbody>\n",
       "</table>\n",
       "</div>"
      ],
      "text/plain": [
       "             city  count\n",
       "0       Пятигорск    219\n",
       "1    Екатеринбург    204\n",
       "2  Ростов-на-Дону    198\n",
       "3       Краснодар    193\n",
       "4            Сочи    189\n",
       "5            Омск    183\n",
       "6          Тюмень    180\n",
       "7          Москва    168"
      ]
     },
     "execution_count": 25,
     "metadata": {},
     "output_type": "execute_result"
    }
   ],
   "source": [
    "   emp_piv = pd.DataFrame(users['city'].value_counts(ascending=False))\n",
    "   emp_piv = emp_piv.reset_index()\n",
    "   emp_piv\n"
   ]
  },
  {
   "cell_type": "code",
   "execution_count": 33,
   "id": "d4bc7bbb",
   "metadata": {},
   "outputs": [
    {
     "data": {
      "image/png": "[encoded data removed]",
      "text/plain": [
       "<Figure size 1000x500 with 1 Axes>"
      ]
     },
     "metadata": {},
     "output_type": "display_data"
    }
   ],
   "source": [
    "plt.figure(figsize=(10,5))\n",
    "ax=sns.barplot(emp_piv,y='city',x='count')\n",
    "plt.xlabel('Количество пользователей')\n",
    "plt.ylabel('')\n",
    "plt.title('Частота встречаемости городов')\n",
    "for cont in ax.containers:\n",
    "    ax.bar_label(cont)\n",
    "plt.show()"
   ]
  },
  {
   "cell_type": "markdown",
   "id": "7f03d49e",
   "metadata": {},
   "source": [
    "Лидером по количеству пользователь является __Пятигорск__ (219 пользователей), а из __Москвы__ наименьшее число пользователей (168). "
   ]
  },
  {
   "cell_type": "markdown",
   "id": "cda34e3c",
   "metadata": {},
   "source": [
    "### Соотношение пользователей с подпиской и без подписки"
   ]
  },
  {
   "cell_type": "markdown",
   "id": "235868d4",
   "metadata": {},
   "source": [
    "Оценим соотношение пользователей с подпиской и без."
   ]
  },
  {
   "cell_type": "code",
   "execution_count": 34,
   "id": "7c32886e",
   "metadata": {},
   "outputs": [
    {
     "data": {
      "text/html": [
       "<div>\n",
       "<style scoped>\n",
       "    .dataframe tbody tr th:only-of-type {\n",
       "        vertical-align: middle;\n",
       "    }\n",
       "\n",
       "    .dataframe tbody tr th {\n",
       "        vertical-align: top;\n",
       "    }\n",
       "\n",
       "    .dataframe thead th {\n",
       "        text-align: right;\n",
       "    }\n",
       "</style>\n",
       "<table border=\"1\" class=\"dataframe\">\n",
       "  <thead>\n",
       "    <tr style=\"text-align: right;\">\n",
       "      <th></th>\n",
       "      <th>subscription_type</th>\n",
       "      <th>count</th>\n",
       "    </tr>\n",
       "  </thead>\n",
       "  <tbody>\n",
       "    <tr>\n",
       "      <th>0</th>\n",
       "      <td>free</td>\n",
       "      <td>835</td>\n",
       "    </tr>\n",
       "    <tr>\n",
       "      <th>1</th>\n",
       "      <td>ultra</td>\n",
       "      <td>699</td>\n",
       "    </tr>\n",
       "  </tbody>\n",
       "</table>\n",
       "</div>"
      ],
      "text/plain": [
       "  subscription_type  count\n",
       "0              free    835\n",
       "1             ultra    699"
      ]
     },
     "execution_count": 34,
     "metadata": {},
     "output_type": "execute_result"
    }
   ],
   "source": [
    "subs_count = pd.DataFrame(users['subscription_type'].value_counts())\n",
    "subs_count=subs_count.reset_index()\n",
    "subs_count"
   ]
  },
  {
   "cell_type": "code",
   "execution_count": 43,
   "id": "960ca4fa",
   "metadata": {},
   "outputs": [
    {
     "data": {
      "image/png": "[encoded data removed]",
      "text/plain": [
       "<Figure size 640x480 with 1 Axes>"
      ]
     },
     "metadata": {},
     "output_type": "display_data"
    }
   ],
   "source": [
    "plt.pie(x=subs_count['count'],labels=subs_count['subscription_type'],autopct='%.1f%%')\n",
    "plt.title('Соотношение видов подписки')\n",
    "plt.tight_layout()\n",
    "plt.show()"
   ]
  },
  {
   "cell_type": "markdown",
   "id": "67618f79",
   "metadata": {},
   "source": [
    "Подписка оформлена у __45,6%__ пользователей."
   ]
  },
  {
   "cell_type": "markdown",
   "id": "785a0d97",
   "metadata": {},
   "source": [
    "### Возраст пользователей"
   ]
  },
  {
   "cell_type": "markdown",
   "id": "5070a273",
   "metadata": {},
   "source": [
    "Рассмотрим распределение возрастов пользователей."
   ]
  },
  {
   "cell_type": "code",
   "execution_count": 18,
   "id": "d078ce24",
   "metadata": {},
   "outputs": [
    {
     "data": {
      "image/png": "[encoded data removed]",
      "text/plain": [
       "<Figure size 432x288 with 1 Axes>"
      ]
     },
     "metadata": {
      "needs_background": "light"
     },
     "output_type": "display_data"
    }
   ],
   "source": [
    "users['age'].hist(bins=(15))\n",
    "plt.title('Распределение возрастов пользователей')\n",
    "plt.show()"
   ]
  },
  {
   "cell_type": "code",
   "execution_count": 19,
   "id": "88404d79",
   "metadata": {},
   "outputs": [
    {
     "data": {
      "text/plain": [
       "count    1534.000000\n",
       "mean       24.903520\n",
       "std         4.572367\n",
       "min        12.000000\n",
       "25%        22.000000\n",
       "50%        25.000000\n",
       "75%        28.000000\n",
       "max        43.000000\n",
       "Name: age, dtype: float64"
      ]
     },
     "execution_count": 19,
     "metadata": {},
     "output_type": "execute_result"
    }
   ],
   "source": [
    "users['age'].describe()"
   ]
  },
  {
   "cell_type": "markdown",
   "id": "3d70bdf5",
   "metadata": {},
   "source": [
    "Распределение похожее на нормальное со средним возрастом равным __25__ лет. В целом возраста всех пользователей находятся в диапазоне [12;43] года."
   ]
  },
  {
   "cell_type": "markdown",
   "id": "18bc8989",
   "metadata": {},
   "source": [
    "### Расстояние поездок"
   ]
  },
  {
   "cell_type": "markdown",
   "id": "47abdd87",
   "metadata": {},
   "source": [
    "Рассмотрим распределение расстояний поездок."
   ]
  },
  {
   "cell_type": "code",
   "execution_count": 20,
   "id": "73e6dfd9",
   "metadata": {},
   "outputs": [
    {
     "data": {
      "image/png": "[encoded data removed]",
      "text/plain": [
       "<Figure size 432x288 with 1 Axes>"
      ]
     },
     "metadata": {
      "needs_background": "light"
     },
     "output_type": "display_data"
    }
   ],
   "source": [
    "rides['distance'].hist(bins=15)\n",
    "plt.title('Гистограмма расстояний поездок')\n",
    "plt.xlabel('Расстояние (м)')\n",
    "plt.ylabel('Частота')\n",
    "plt.show()"
   ]
  },
  {
   "cell_type": "code",
   "execution_count": 21,
   "id": "153a0d67",
   "metadata": {},
   "outputs": [
    {
     "data": {
      "text/plain": [
       "count    18068.000000\n",
       "mean      3070.659976\n",
       "std       1116.831209\n",
       "min          0.855683\n",
       "25%       2543.226360\n",
       "50%       3133.609994\n",
       "75%       3776.222735\n",
       "max       7211.007745\n",
       "Name: distance, dtype: float64"
      ]
     },
     "execution_count": 21,
     "metadata": {},
     "output_type": "execute_result"
    }
   ],
   "source": [
    "rides['distance'].describe()"
   ]
  },
  {
   "cell_type": "markdown",
   "id": "7c5f63dc",
   "metadata": {},
   "source": [
    "Чаще всего расстояние составляло около __3 км__, максимальная дистанция-__7,2 км__."
   ]
  },
  {
   "cell_type": "markdown",
   "id": "59b43b40",
   "metadata": {},
   "source": [
    "### Продолжительность поездок\n"
   ]
  },
  {
   "cell_type": "code",
   "execution_count": 22,
   "id": "064dba7b",
   "metadata": {
    "scrolled": false
   },
   "outputs": [
    {
     "data": {
      "image/png": "[encoded data removed]",
      "text/plain": [
       "<Figure size 432x288 with 1 Axes>"
      ]
     },
     "metadata": {
      "needs_background": "light"
     },
     "output_type": "display_data"
    }
   ],
   "source": [
    "rides['duration'].hist(bins=15)\n",
    "plt.title('Гистограмма продолжительности совершенных поездок')\n",
    "plt.xlabel('Время (мин)')\n",
    "plt.ylabel('Частота')\n",
    "plt.show()"
   ]
  },
  {
   "cell_type": "code",
   "execution_count": 23,
   "id": "0cfc9662",
   "metadata": {},
   "outputs": [
    {
     "data": {
      "text/plain": [
       "count    18068.000000\n",
       "mean        17.805011\n",
       "std          6.091051\n",
       "min          0.500000\n",
       "25%         13.597563\n",
       "50%         17.678395\n",
       "75%         21.724800\n",
       "max         40.823963\n",
       "Name: duration, dtype: float64"
      ]
     },
     "execution_count": 23,
     "metadata": {},
     "output_type": "execute_result"
    }
   ],
   "source": [
    "rides['duration'].describe()"
   ]
  },
  {
   "cell_type": "markdown",
   "id": "61c6d0f0",
   "metadata": {},
   "source": [
    "Среднее время около __18 минут__, максимальное время поездки ~__41__ минуты."
   ]
  },
  {
   "cell_type": "markdown",
   "id": "ee9d1c5f",
   "metadata": {},
   "source": [
    "### Промежуточные выводы"
   ]
  },
  {
   "cell_type": "markdown",
   "id": "45b9c3a6",
   "metadata": {},
   "source": [
    "- больше всего пользователей из __Пятигорска__ (219);\n",
    "- подписка оформлена у __45,6%__ пользователей;\n",
    "- средний возраст пользователей-__25 лет__;\n",
    "- среднее время поездки __18 минут__, а расстояние-__3 км__."
   ]
  },
  {
   "cell_type": "markdown",
   "id": "e0a77f0b",
   "metadata": {},
   "source": [
    "## Объединение данных"
   ]
  },
  {
   "cell_type": "markdown",
   "id": "b5597b15",
   "metadata": {},
   "source": [
    "Датасет с поездками является основным, с которым будем объединять остальные таблицы, следовательно напомним его размерность."
   ]
  },
  {
   "cell_type": "code",
   "execution_count": 24,
   "id": "429798c2",
   "metadata": {},
   "outputs": [
    {
     "name": "stdout",
     "output_type": "stream",
     "text": [
      "<class 'pandas.core.frame.DataFrame'>\n",
      "RangeIndex: 18068 entries, 0 to 18067\n",
      "Data columns (total 5 columns):\n",
      " #   Column    Non-Null Count  Dtype         \n",
      "---  ------    --------------  -----         \n",
      " 0   user_id   18068 non-null  int64         \n",
      " 1   distance  18068 non-null  float64       \n",
      " 2   duration  18068 non-null  float64       \n",
      " 3   date      18068 non-null  datetime64[ns]\n",
      " 4   month     18068 non-null  int64         \n",
      "dtypes: datetime64[ns](1), float64(2), int64(2)\n",
      "memory usage: 705.9 KB\n"
     ]
    }
   ],
   "source": [
    "rides.info()"
   ]
  },
  {
   "cell_type": "markdown",
   "id": "61d3ff7d",
   "metadata": {},
   "source": [
    "### Объединение датафреймов"
   ]
  },
  {
   "cell_type": "markdown",
   "id": "b3423da8",
   "metadata": {},
   "source": [
    "Объединим все данные в один датасет."
   ]
  },
  {
   "cell_type": "code",
   "execution_count": 25,
   "id": "cda61047",
   "metadata": {},
   "outputs": [
    {
     "data": {
      "text/html": [
       "<div>\n",
       "<style scoped>\n",
       "    .dataframe tbody tr th:only-of-type {\n",
       "        vertical-align: middle;\n",
       "    }\n",
       "\n",
       "    .dataframe tbody tr th {\n",
       "        vertical-align: top;\n",
       "    }\n",
       "\n",
       "    .dataframe thead th {\n",
       "        text-align: right;\n",
       "    }\n",
       "</style>\n",
       "<table border=\"1\" class=\"dataframe\">\n",
       "  <thead>\n",
       "    <tr style=\"text-align: right;\">\n",
       "      <th></th>\n",
       "      <th>user_id</th>\n",
       "      <th>name</th>\n",
       "      <th>age</th>\n",
       "      <th>city</th>\n",
       "      <th>subscription_type</th>\n",
       "      <th>distance</th>\n",
       "      <th>duration</th>\n",
       "      <th>date</th>\n",
       "      <th>month</th>\n",
       "      <th>minute_price</th>\n",
       "      <th>start_ride_price</th>\n",
       "      <th>subscription_fee</th>\n",
       "    </tr>\n",
       "  </thead>\n",
       "  <tbody>\n",
       "    <tr>\n",
       "      <th>0</th>\n",
       "      <td>1</td>\n",
       "      <td>Кира</td>\n",
       "      <td>22</td>\n",
       "      <td>Тюмень</td>\n",
       "      <td>ultra</td>\n",
       "      <td>4409.919140</td>\n",
       "      <td>25.599769</td>\n",
       "      <td>2021-01-01</td>\n",
       "      <td>1</td>\n",
       "      <td>6</td>\n",
       "      <td>0</td>\n",
       "      <td>199</td>\n",
       "    </tr>\n",
       "    <tr>\n",
       "      <th>1</th>\n",
       "      <td>1</td>\n",
       "      <td>Кира</td>\n",
       "      <td>22</td>\n",
       "      <td>Тюмень</td>\n",
       "      <td>ultra</td>\n",
       "      <td>2617.592153</td>\n",
       "      <td>15.816871</td>\n",
       "      <td>2021-01-18</td>\n",
       "      <td>1</td>\n",
       "      <td>6</td>\n",
       "      <td>0</td>\n",
       "      <td>199</td>\n",
       "    </tr>\n",
       "    <tr>\n",
       "      <th>2</th>\n",
       "      <td>1</td>\n",
       "      <td>Кира</td>\n",
       "      <td>22</td>\n",
       "      <td>Тюмень</td>\n",
       "      <td>ultra</td>\n",
       "      <td>754.159807</td>\n",
       "      <td>6.232113</td>\n",
       "      <td>2021-04-20</td>\n",
       "      <td>4</td>\n",
       "      <td>6</td>\n",
       "      <td>0</td>\n",
       "      <td>199</td>\n",
       "    </tr>\n",
       "    <tr>\n",
       "      <th>3</th>\n",
       "      <td>1</td>\n",
       "      <td>Кира</td>\n",
       "      <td>22</td>\n",
       "      <td>Тюмень</td>\n",
       "      <td>ultra</td>\n",
       "      <td>2694.783254</td>\n",
       "      <td>18.511000</td>\n",
       "      <td>2021-08-11</td>\n",
       "      <td>8</td>\n",
       "      <td>6</td>\n",
       "      <td>0</td>\n",
       "      <td>199</td>\n",
       "    </tr>\n",
       "    <tr>\n",
       "      <th>4</th>\n",
       "      <td>1</td>\n",
       "      <td>Кира</td>\n",
       "      <td>22</td>\n",
       "      <td>Тюмень</td>\n",
       "      <td>ultra</td>\n",
       "      <td>4028.687306</td>\n",
       "      <td>26.265803</td>\n",
       "      <td>2021-08-28</td>\n",
       "      <td>8</td>\n",
       "      <td>6</td>\n",
       "      <td>0</td>\n",
       "      <td>199</td>\n",
       "    </tr>\n",
       "  </tbody>\n",
       "</table>\n",
       "</div>"
      ],
      "text/plain": [
       "   user_id  name  age    city subscription_type     distance   duration  \\\n",
       "0        1  Кира   22  Тюмень             ultra  4409.919140  25.599769   \n",
       "1        1  Кира   22  Тюмень             ultra  2617.592153  15.816871   \n",
       "2        1  Кира   22  Тюмень             ultra   754.159807   6.232113   \n",
       "3        1  Кира   22  Тюмень             ultra  2694.783254  18.511000   \n",
       "4        1  Кира   22  Тюмень             ultra  4028.687306  26.265803   \n",
       "\n",
       "        date  month  minute_price  start_ride_price  subscription_fee  \n",
       "0 2021-01-01      1             6                 0               199  \n",
       "1 2021-01-18      1             6                 0               199  \n",
       "2 2021-04-20      4             6                 0               199  \n",
       "3 2021-08-11      8             6                 0               199  \n",
       "4 2021-08-28      8             6                 0               199  "
      ]
     },
     "execution_count": 25,
     "metadata": {},
     "output_type": "execute_result"
    }
   ],
   "source": [
    "data = users.merge(rides)\n",
    "data = data.merge(subs)\n",
    "data.head()"
   ]
  },
  {
   "cell_type": "markdown",
   "id": "676d5f03",
   "metadata": {},
   "source": [
    "Проверим размерность результирующего датафрейма."
   ]
  },
  {
   "cell_type": "code",
   "execution_count": 26,
   "id": "3d95dd1a",
   "metadata": {},
   "outputs": [
    {
     "name": "stdout",
     "output_type": "stream",
     "text": [
      "<class 'pandas.core.frame.DataFrame'>\n",
      "Int64Index: 18068 entries, 0 to 18067\n",
      "Data columns (total 12 columns):\n",
      " #   Column             Non-Null Count  Dtype         \n",
      "---  ------             --------------  -----         \n",
      " 0   user_id            18068 non-null  int64         \n",
      " 1   name               18068 non-null  object        \n",
      " 2   age                18068 non-null  int64         \n",
      " 3   city               18068 non-null  object        \n",
      " 4   subscription_type  18068 non-null  object        \n",
      " 5   distance           18068 non-null  float64       \n",
      " 6   duration           18068 non-null  float64       \n",
      " 7   date               18068 non-null  datetime64[ns]\n",
      " 8   month              18068 non-null  int64         \n",
      " 9   minute_price       18068 non-null  int64         \n",
      " 10  start_ride_price   18068 non-null  int64         \n",
      " 11  subscription_fee   18068 non-null  int64         \n",
      "dtypes: datetime64[ns](1), float64(2), int64(6), object(3)\n",
      "memory usage: 1.8+ MB\n"
     ]
    }
   ],
   "source": [
    "data.info()"
   ]
  },
  {
   "cell_type": "markdown",
   "id": "0d1725c4",
   "metadata": {},
   "source": [
    "Пропусков в данных нет, значит объединение прошло успешно."
   ]
  },
  {
   "cell_type": "markdown",
   "id": "8760f191",
   "metadata": {},
   "source": [
    "### Разделение по типу подписки"
   ]
  },
  {
   "cell_type": "markdown",
   "id": "bbe4ccd7",
   "metadata": {},
   "source": [
    "Выделим два отдельных датафрейма по типу подписки пользователей."
   ]
  },
  {
   "cell_type": "code",
   "execution_count": 27,
   "id": "28f8b15a",
   "metadata": {},
   "outputs": [],
   "source": [
    "ultra = data.query('subscription_type==\"ultra\"')"
   ]
  },
  {
   "cell_type": "code",
   "execution_count": 28,
   "id": "5055399c",
   "metadata": {},
   "outputs": [],
   "source": [
    "free = data.query('subscription_type==\"free\"')"
   ]
  },
  {
   "cell_type": "markdown",
   "id": "050a0b01",
   "metadata": {},
   "source": [
    "### Сравнение по расстоянию и продолжительности"
   ]
  },
  {
   "cell_type": "markdown",
   "id": "d6823b3a",
   "metadata": {},
   "source": [
    "Сравним пользователей с разными подписками по времени и расстоянию поездок."
   ]
  },
  {
   "cell_type": "code",
   "execution_count": 29,
   "id": "57dabc60",
   "metadata": {},
   "outputs": [
    {
     "data": {
      "image/png": "[encoded data removed]",
      "text/plain": [
       "<Figure size 720x432 with 2 Axes>"
      ]
     },
     "metadata": {
      "needs_background": "light"
     },
     "output_type": "display_data"
    }
   ],
   "source": [
    "fig, axes = plt.subplots(1, 2, figsize=(10, 6))\n",
    "sns.boxplot(data=data, x='subscription_type', y='distance', ax=axes[0], showfliers=False, showmeans=True).set(\n",
    "    title='Разброс расстояний', xlabel='Вид подписки', ylabel='Расстояние (м)')\n",
    "sns.boxplot(data=data, x='subscription_type', y='duration', ax=axes[1], showfliers=False, showmeans=True).set(\n",
    "    title='Разброс продолжительности', xlabel='Вид подписки', ylabel='Продолжительность (мин)')\n",
    "fig.suptitle('Сравнение характеристик в зависимости от подписки')\n",
    "plt.show()"
   ]
  },
  {
   "cell_type": "markdown",
   "id": "c43db8c7",
   "metadata": {},
   "source": [
    "- у поездок с подпиской __меньше__ разброс показателей;\n",
    "- среднее расстояние и медиана поездок с подпиской практически не отличается от бесплатной версии;\n",
    "- среднее время поездок __выше__ у подписки __ultra__."
   ]
  },
  {
   "cell_type": "markdown",
   "id": "3eb7e323",
   "metadata": {},
   "source": [
    "## Подсчет выручки"
   ]
  },
  {
   "cell_type": "markdown",
   "id": "55d07e06",
   "metadata": {},
   "source": [
    "### Создание сводной таблицы"
   ]
  },
  {
   "cell_type": "markdown",
   "id": "1f4dbf39",
   "metadata": {},
   "source": [
    "Составим сводную таблицу помесячной выручки для каждого пользователя."
   ]
  },
  {
   "cell_type": "markdown",
   "id": "9baf04a3",
   "metadata": {},
   "source": [
    "Округлим в большую сторону длительность поездки."
   ]
  },
  {
   "cell_type": "code",
   "execution_count": 30,
   "id": "9657d048",
   "metadata": {},
   "outputs": [],
   "source": [
    "data['duration'] = np.ceil(data['duration']).astype('int64')"
   ]
  },
  {
   "cell_type": "markdown",
   "id": "23130d0d",
   "metadata": {},
   "source": [
    "Выведем сводную таблицу с аггрегированными данными."
   ]
  },
  {
   "cell_type": "code",
   "execution_count": 31,
   "id": "0864c10b",
   "metadata": {},
   "outputs": [
    {
     "data": {
      "text/html": [
       "<div>\n",
       "<style scoped>\n",
       "    .dataframe tbody tr th:only-of-type {\n",
       "        vertical-align: middle;\n",
       "    }\n",
       "\n",
       "    .dataframe tbody tr th {\n",
       "        vertical-align: top;\n",
       "    }\n",
       "\n",
       "    .dataframe thead th {\n",
       "        text-align: right;\n",
       "    }\n",
       "</style>\n",
       "<table border=\"1\" class=\"dataframe\">\n",
       "  <thead>\n",
       "    <tr style=\"text-align: right;\">\n",
       "      <th></th>\n",
       "      <th>user_id</th>\n",
       "      <th>month</th>\n",
       "      <th>sum_distance</th>\n",
       "      <th>count_rides</th>\n",
       "      <th>sum_duration</th>\n",
       "      <th>minute_price</th>\n",
       "      <th>start_ride_price</th>\n",
       "      <th>subscription_fee</th>\n",
       "    </tr>\n",
       "  </thead>\n",
       "  <tbody>\n",
       "    <tr>\n",
       "      <th>0</th>\n",
       "      <td>1</td>\n",
       "      <td>1</td>\n",
       "      <td>7027.511294</td>\n",
       "      <td>2</td>\n",
       "      <td>42</td>\n",
       "      <td>6</td>\n",
       "      <td>0</td>\n",
       "      <td>199</td>\n",
       "    </tr>\n",
       "    <tr>\n",
       "      <th>1</th>\n",
       "      <td>1</td>\n",
       "      <td>4</td>\n",
       "      <td>754.159807</td>\n",
       "      <td>1</td>\n",
       "      <td>7</td>\n",
       "      <td>6</td>\n",
       "      <td>0</td>\n",
       "      <td>199</td>\n",
       "    </tr>\n",
       "    <tr>\n",
       "      <th>2</th>\n",
       "      <td>1</td>\n",
       "      <td>8</td>\n",
       "      <td>6723.470560</td>\n",
       "      <td>2</td>\n",
       "      <td>46</td>\n",
       "      <td>6</td>\n",
       "      <td>0</td>\n",
       "      <td>199</td>\n",
       "    </tr>\n",
       "    <tr>\n",
       "      <th>3</th>\n",
       "      <td>1</td>\n",
       "      <td>10</td>\n",
       "      <td>5809.911100</td>\n",
       "      <td>2</td>\n",
       "      <td>32</td>\n",
       "      <td>6</td>\n",
       "      <td>0</td>\n",
       "      <td>199</td>\n",
       "    </tr>\n",
       "    <tr>\n",
       "      <th>4</th>\n",
       "      <td>1</td>\n",
       "      <td>11</td>\n",
       "      <td>7003.499363</td>\n",
       "      <td>3</td>\n",
       "      <td>56</td>\n",
       "      <td>6</td>\n",
       "      <td>0</td>\n",
       "      <td>199</td>\n",
       "    </tr>\n",
       "  </tbody>\n",
       "</table>\n",
       "</div>"
      ],
      "text/plain": [
       "   user_id  month  sum_distance  count_rides  sum_duration  minute_price  \\\n",
       "0        1      1   7027.511294            2            42             6   \n",
       "1        1      4    754.159807            1             7             6   \n",
       "2        1      8   6723.470560            2            46             6   \n",
       "3        1     10   5809.911100            2            32             6   \n",
       "4        1     11   7003.499363            3            56             6   \n",
       "\n",
       "   start_ride_price  subscription_fee  \n",
       "0                 0               199  \n",
       "1                 0               199  \n",
       "2                 0               199  \n",
       "3                 0               199  \n",
       "4                 0               199  "
      ]
     },
     "execution_count": 31,
     "metadata": {},
     "output_type": "execute_result"
    }
   ],
   "source": [
    "piv_go = data.groupby(['user_id', 'month']).agg({'distance': 'sum', 'duration': [\n",
    "    'count', 'sum'], 'minute_price': 'first', 'start_ride_price': 'first', 'subscription_fee': 'first'}).reset_index()\n",
    "piv_go.columns = ['user_id', 'month', 'sum_distance', 'count_rides',\n",
    "                  'sum_duration', 'minute_price', 'start_ride_price', 'subscription_fee']\n",
    "piv_go.head()"
   ]
  },
  {
   "cell_type": "markdown",
   "id": "87221bcd",
   "metadata": {},
   "source": [
    "### Создание столбца с помесячной выручкой"
   ]
  },
  {
   "cell_type": "markdown",
   "id": "417a299c",
   "metadata": {},
   "source": [
    "Рассчитаем выручку для каждого пользователя с учётом типа подписки."
   ]
  },
  {
   "cell_type": "code",
   "execution_count": 32,
   "id": "2affc1fb",
   "metadata": {},
   "outputs": [
    {
     "data": {
      "text/html": [
       "<div>\n",
       "<style scoped>\n",
       "    .dataframe tbody tr th:only-of-type {\n",
       "        vertical-align: middle;\n",
       "    }\n",
       "\n",
       "    .dataframe tbody tr th {\n",
       "        vertical-align: top;\n",
       "    }\n",
       "\n",
       "    .dataframe thead th {\n",
       "        text-align: right;\n",
       "    }\n",
       "</style>\n",
       "<table border=\"1\" class=\"dataframe\">\n",
       "  <thead>\n",
       "    <tr style=\"text-align: right;\">\n",
       "      <th></th>\n",
       "      <th>user_id</th>\n",
       "      <th>month</th>\n",
       "      <th>sum_distance</th>\n",
       "      <th>count_rides</th>\n",
       "      <th>sum_duration</th>\n",
       "      <th>minute_price</th>\n",
       "      <th>start_ride_price</th>\n",
       "      <th>subscription_fee</th>\n",
       "      <th>revenue</th>\n",
       "    </tr>\n",
       "  </thead>\n",
       "  <tbody>\n",
       "    <tr>\n",
       "      <th>0</th>\n",
       "      <td>1</td>\n",
       "      <td>1</td>\n",
       "      <td>7027.511294</td>\n",
       "      <td>2</td>\n",
       "      <td>42</td>\n",
       "      <td>6</td>\n",
       "      <td>0</td>\n",
       "      <td>199</td>\n",
       "      <td>451</td>\n",
       "    </tr>\n",
       "    <tr>\n",
       "      <th>1</th>\n",
       "      <td>1</td>\n",
       "      <td>4</td>\n",
       "      <td>754.159807</td>\n",
       "      <td>1</td>\n",
       "      <td>7</td>\n",
       "      <td>6</td>\n",
       "      <td>0</td>\n",
       "      <td>199</td>\n",
       "      <td>241</td>\n",
       "    </tr>\n",
       "    <tr>\n",
       "      <th>2</th>\n",
       "      <td>1</td>\n",
       "      <td>8</td>\n",
       "      <td>6723.470560</td>\n",
       "      <td>2</td>\n",
       "      <td>46</td>\n",
       "      <td>6</td>\n",
       "      <td>0</td>\n",
       "      <td>199</td>\n",
       "      <td>475</td>\n",
       "    </tr>\n",
       "    <tr>\n",
       "      <th>3</th>\n",
       "      <td>1</td>\n",
       "      <td>10</td>\n",
       "      <td>5809.911100</td>\n",
       "      <td>2</td>\n",
       "      <td>32</td>\n",
       "      <td>6</td>\n",
       "      <td>0</td>\n",
       "      <td>199</td>\n",
       "      <td>391</td>\n",
       "    </tr>\n",
       "    <tr>\n",
       "      <th>4</th>\n",
       "      <td>1</td>\n",
       "      <td>11</td>\n",
       "      <td>7003.499363</td>\n",
       "      <td>3</td>\n",
       "      <td>56</td>\n",
       "      <td>6</td>\n",
       "      <td>0</td>\n",
       "      <td>199</td>\n",
       "      <td>535</td>\n",
       "    </tr>\n",
       "  </tbody>\n",
       "</table>\n",
       "</div>"
      ],
      "text/plain": [
       "   user_id  month  sum_distance  count_rides  sum_duration  minute_price  \\\n",
       "0        1      1   7027.511294            2            42             6   \n",
       "1        1      4    754.159807            1             7             6   \n",
       "2        1      8   6723.470560            2            46             6   \n",
       "3        1     10   5809.911100            2            32             6   \n",
       "4        1     11   7003.499363            3            56             6   \n",
       "\n",
       "   start_ride_price  subscription_fee  revenue  \n",
       "0                 0               199      451  \n",
       "1                 0               199      241  \n",
       "2                 0               199      475  \n",
       "3                 0               199      391  \n",
       "4                 0               199      535  "
      ]
     },
     "execution_count": 32,
     "metadata": {},
     "output_type": "execute_result"
    }
   ],
   "source": [
    "piv_go['revenue'] = piv_go['start_ride_price']*piv_go['count_rides'] + \\\n",
    "    piv_go['sum_duration']*piv_go['minute_price']+piv_go['subscription_fee']\n",
    "piv_go.head()"
   ]
  },
  {
   "cell_type": "markdown",
   "id": "d03f59e6",
   "metadata": {},
   "source": [
    "## Проверка гипотез"
   ]
  },
  {
   "cell_type": "markdown",
   "id": "10e12b1c",
   "metadata": {},
   "source": [
    "В этом разделе проверим гипотезы для ввода новых акций."
   ]
  },
  {
   "cell_type": "markdown",
   "id": "e981871a",
   "metadata": {},
   "source": [
    "### Пользователи с подпиской тратят больше времени на поездки"
   ]
  },
  {
   "cell_type": "markdown",
   "id": "077d5631",
   "metadata": {},
   "source": [
    "- Нулевая гипотеза-среднее время пользователей с подпиской меньше или равна среднему времени пользователей с подпиской;\n",
    "- Альтернативная гипотеза-среднее время с подпиской больше, чем без подписки."
   ]
  },
  {
   "cell_type": "markdown",
   "id": "347c4fa0",
   "metadata": {},
   "source": [
    "Вывод: среднее время действительно с подпиской больше, чем без подписки."
   ]
  },
  {
   "cell_type": "markdown",
   "id": "07a18fbc",
   "metadata": {},
   "source": [
    "### Среднее расстояние, которое проезжают пользователи с подпиской за одну поездку, не превышает 3130 метров\n",
    " "
   ]
  },
  {
   "cell_type": "markdown",
   "id": "b173f896",
   "metadata": {},
   "source": [
    "- Нулевая гипотеза-cреднее расстояние, которое проезжают пользователи с подпиской за одну поездку, не превышает 3130 метров;\n",
    "- Альтернативная гипотеза-среднее расстояние более 3130 метров."
   ]
  },
  {
   "cell_type": "code",
   "execution_count": 34,
   "id": "3a820574",
   "metadata": {},
   "outputs": [
    {
     "name": "stdout",
     "output_type": "stream",
     "text": [
      "p-значение: 0.9195368847849785\n",
      "Не получилось отвергнуть нулевую гипотезу\n"
     ]
    }
   ],
   "source": [
    "alpha = 0.05\n",
    "exp_distance = 3130\n",
    "results = st.ttest_1samp(\n",
    "    ultra['distance'], exp_distance, alternative='greater')\n",
    "print('p-значение:', results.pvalue)\n",
    "\n",
    "if results.pvalue < alpha:\n",
    "    print('Отвергаем нулевую гипотезу')\n",
    "else:\n",
    "    print('Не получилось отвергнуть нулевую гипотезу')"
   ]
  },
  {
   "cell_type": "markdown",
   "id": "8d1408a4",
   "metadata": {},
   "source": [
    "Вывод: среднее расстояние, которое проезжают пользователи с подпиской за одну поездку, не превышает 3130 метров."
   ]
  },
  {
   "cell_type": "markdown",
   "id": "8d4f81d6",
   "metadata": {},
   "source": [
    "### Помесячная выручка от пользователей с подпиской по месяцам выше, чем выручка от пользователей без подписки"
   ]
  },
  {
   "cell_type": "markdown",
   "id": "8c1315c3",
   "metadata": {},
   "source": [
    "- Нулевая гипотеза- помесячная выручка от пользователей с подпиской по месяцам равна или ниже, чем выручка от пользователей без подписки;\n",
    "- Альтернативная гипотеза-помесячная выручка с подпиской больше."
   ]
  },
  {
   "cell_type": "code",
   "execution_count": 35,
   "id": "ee2070d9",
   "metadata": {},
   "outputs": [
    {
     "name": "stdout",
     "output_type": "stream",
     "text": [
      "p-значение: 1.8850394384715216e-31\n",
      "Отвергаем нулевую гипотезу\n"
     ]
    }
   ],
   "source": [
    "alpha = 0.05\n",
    "results = st.ttest_ind(piv_go.loc[piv_go['subscription_fee'] != 0, 'revenue'],\n",
    "                       piv_go.loc[piv_go['subscription_fee'] == 0, 'revenue'], alternative='greater')\n",
    "print('p-значение:', results.pvalue)\n",
    "\n",
    "if results.pvalue < alpha:\n",
    "    print('Отвергаем нулевую гипотезу')\n",
    "else:\n",
    "    print('Не получилось отвергнуть нулевую гипотезу')"
   ]
  },
  {
   "cell_type": "markdown",
   "id": "6ecdecc3",
   "metadata": {},
   "source": [
    "Вывод: помесячная выручка больше от пользователей с подпиской."
   ]
  },
  {
   "cell_type": "markdown",
   "id": "e24d1e1a",
   "metadata": {},
   "source": [
    "### Обновление сервера"
   ]
  },
  {
   "cell_type": "markdown",
   "id": "49087d59",
   "metadata": {},
   "source": [
    "Представbv такую ситуацию: техническая команда сервиса обновила сервера, с которыми взаимодействует мобильное приложение. Она надеется, что из-за этого количество обращений в техподдержку значимо снизилось. Некоторый файл содержит для каждого пользователя данные о количестве обращений до обновления и после него."
   ]
  },
  {
   "cell_type": "markdown",
   "id": "0a1d28d3",
   "metadata": {},
   "source": [
    "В случае обновления сервера будем использовать проверку равенства средних зависимых выборок с помощью метода `ttest_rel()`."
   ]
  },
  {
   "cell_type": "markdown",
   "id": "57ac4179",
   "metadata": {},
   "source": [
    "## Распределения"
   ]
  },
  {
   "cell_type": "markdown",
   "id": "6c7cbe01",
   "metadata": {},
   "source": [
    "### Раздача промокодов"
   ]
  },
  {
   "cell_type": "markdown",
   "id": "4dc26c3b",
   "metadata": {},
   "source": [
    "Отделу маркетинга GoFast поставили задачу: нужно провести акцию с раздачей промокодов на один бесплатный месяц подписки, в рамках которой как минимум 100 существующих клиентов должны продлить эту подписку. То есть по завершении периода действия подписки пользователь может либо отказаться от неё, либо продлить, совершив соответствующий платёж. \n",
    "Эта акция уже проводилась ранее и по итогу выяснилось, что после бесплатного пробного периода подписку продлевают 10 % пользователей. Необходимо выяснить, какое минимальное количество промокодов нужно разослать, чтобы вероятность не выполнить план была примерно 5 %. "
   ]
  },
  {
   "cell_type": "markdown",
   "id": "03cdfe5d",
   "metadata": {},
   "source": [
    "Смоделируем акцию в виде биномиального распределения с p=0.1. Чтобы найти n, будем перебирать в цикле значения, при котором вероятность не выполнить план будет меньше 5% с помощью метода __cdf()__."
   ]
  },
  {
   "cell_type": "code",
   "execution_count": 36,
   "id": "545892a5",
   "metadata": {},
   "outputs": [
    {
     "name": "stderr",
     "output_type": "stream",
     "text": [
      "/opt/conda/lib/python3.9/site-packages/scipy/stats/_discrete_distns.py:78: RuntimeWarning:\n",
      "\n",
      "divide by zero encountered in _binom_pdf\n",
      "\n"
     ]
    },
    {
     "name": "stdout",
     "output_type": "stream",
     "text": [
      "Вероятность не выполнить план составляет менее 5% при количестве промокодов равном 1172.\n"
     ]
    }
   ],
   "source": [
    "p = 0.1\n",
    "for n in range(1000, 1300):\n",
    "    distr = []\n",
    "    for k in range(n+1):\n",
    "        current_value = binom.pmf(k, n, p)\n",
    "        distr.append(current_value)\n",
    "    if binom.cdf(100, n, 0.1) <= 0.05:\n",
    "        print(\n",
    "            f'Вероятность не выполнить план составляет менее 5% при количестве промокодов равном {n}.')\n",
    "        break"
   ]
  },
  {
   "cell_type": "markdown",
   "id": "7c65e438",
   "metadata": {},
   "source": [
    "Построим график полученного распределения."
   ]
  },
  {
   "cell_type": "code",
   "execution_count": 37,
   "id": "b1f1415d",
   "metadata": {},
   "outputs": [
    {
     "data": {
      "image/png": "[encoded data removed]",
      "text/plain": [
       "<Figure size 432x288 with 1 Axes>"
      ]
     },
     "metadata": {
      "needs_background": "light"
     },
     "output_type": "display_data"
    }
   ],
   "source": [
    "plt.bar(range(200), distr[:200])\n",
    "plt.title(f'Биномиальное распределение продления подписок при p=0.1 и n={n}')\n",
    "plt.show()"
   ]
  },
  {
   "cell_type": "markdown",
   "id": "c8f7d2c6",
   "metadata": {},
   "source": [
    "Вывод: чтобы вероятность не выполнить план была менее 5% нужно выдать минимум __1172__ промокода."
   ]
  },
  {
   "cell_type": "markdown",
   "id": "f58afbdb",
   "metadata": {},
   "source": [
    "### Push-уведомления"
   ]
  },
  {
   "cell_type": "markdown",
   "id": "9bedd6ca",
   "metadata": {},
   "source": [
    "Отдел маркетинга рассылает клиентам push-уведомления в мобильном приложении. Клиенты могут открыть его или не открывать. Известно, что уведомления открывают около 40 % получивших клиентов. Отдел планирует разослать 1 млн уведомлений. С помощью аппроксимации построим примерный график распределения и оценим вероятность того, что уведомление откроют не более 399,5 тыс. пользователей."
   ]
  },
  {
   "cell_type": "markdown",
   "id": "25df69b8",
   "metadata": {},
   "source": [
    "Чтобы найти необходимую вероятность, аппроксимируем биномиальное распределение нормальным и получим вероятность с помощью метода __cdf__."
   ]
  },
  {
   "cell_type": "code",
   "execution_count": 38,
   "id": "dd84119e",
   "metadata": {},
   "outputs": [
    {
     "name": "stdout",
     "output_type": "stream",
     "text": [
      "Вероятность, что уведомления откроют не более 399,5 тыс. пользователей равна 0.15\n"
     ]
    }
   ],
   "source": [
    "n = 10**6\n",
    "p = 0.4\n",
    "client_open = 399.5*1000\n",
    "mu = n*p\n",
    "sigma = sqrt(n*p*(1-p))\n",
    "distr = st.norm(mu, sigma)\n",
    "results = distr.cdf(client_open)\n",
    "print(\n",
    "    f'Вероятность, что уведомления откроют не более 399,5 тыс. пользователей равна {round(results,2)}')"
   ]
  },
  {
   "cell_type": "markdown",
   "id": "18f2da1a",
   "metadata": {},
   "source": [
    "Построим график распределения, которым аппроксимировали."
   ]
  },
  {
   "cell_type": "code",
   "execution_count": 39,
   "id": "dacf8fc7",
   "metadata": {},
   "outputs": [
    {
     "data": {
      "image/png": "[encoded data removed]",
      "text/plain": [
       "<Figure size 432x288 with 1 Axes>"
      ]
     },
     "metadata": {
      "needs_background": "light"
     },
     "output_type": "display_data"
    }
   ],
   "source": [
    "# зададим функцию, которая выдаёт <num> чисел,\n",
    "# равномерно распределённых от <start> до <stop>\n",
    "# (понадобится для визуализации нормального распределения)\n",
    "def linspace(start, stop, num):\n",
    "    step = (stop - start) / (num - 1)\n",
    "    result = []\n",
    "    for i in range(num):\n",
    "        result.append(start + step * i)\n",
    "    return result\n",
    "\n",
    "\n",
    "# границы промежутка, в котором будем строить аппроксимацию -\n",
    "# от n*p минус 4 ст.отклонения бином.распределения\n",
    "# до n*p плюс 4 ст.отклонения бином.распределения\n",
    "# (там, где вероятности значений почти не равны нулю)\n",
    "left = int(n * p - 4 * sqrt(n * p * (1 - p)))\n",
    "right = int(n * p + 4 * sqrt(n * p * (1 - p)))\n",
    "\n",
    "# зададим набор значений биномиальной величины на выбранном промежутке:\n",
    "# все неотрицательные целые числа от left до right\n",
    "x = list(range(left, right))\n",
    "plt.plot(x, norm.pdf(x, mu, sigma))\n",
    "plt.title(\n",
    "    f'Нормальное распределение открытия уведомления с параметрами mu={int(mu)}, sigma={round(sigma)}')\n",
    "\n",
    "plt.show()"
   ]
  },
  {
   "cell_type": "markdown",
   "id": "6e7e1fb3",
   "metadata": {},
   "source": [
    "Вывод: вероятность, что уведомления откроют не более 399,5 тыс. пользователей равна __0.15__."
   ]
  },
  {
   "cell_type": "markdown",
   "id": "dc2d9a5a",
   "metadata": {},
   "source": [
    "## Общие выводы"
   ]
  },
  {
   "cell_type": "markdown",
   "id": "1f6d9932",
   "metadata": {},
   "source": [
    "В ходе проведенного исследования были сформулированы следующие выводы:\n",
    "- подписка оформлена у __45,6%__ пользователей из полученных данных;\n",
    "- средний возраст пользователей-__25 лет__;\n",
    "- среднее время поездки __18 минут__, а расстояние-__3 км__;\n",
    "- среднее время около __18 минут__, максимальное время поездки ~__41__ минуты;\n",
    "- среднее время действительно с подпиской больше, чем без подписки;\n",
    "- среднее расстояние, которое проезжают пользователи с подпиской за одну поездку, __не превышает__ 3130 метров;\n",
    "- помесячная выручка с подпиской __больше__ от пользователей с подпиской;\n",
    "- чтобы вероятность не выполнить план по продлению подписок была менее 5% нужно выдать минимум __1172__ промокода;\n",
    "- вероятность, что уведомления откроют не более 399,5 тыс. пользователей равна __0.15__."
   ]
  }
 ],
 "metadata": {
  "ExecuteTimeLog": [
   {
    "duration": 1286,
    "start_time": "2024-07-17T19:47:09.951Z"
   },
   {
    "duration": 144,
    "start_time": "2024-07-17T19:47:11.239Z"
   },
   {
    "duration": 0,
    "start_time": "2024-07-17T19:47:11.391Z"
   },
   {
    "duration": 0,
    "start_time": "2024-07-17T19:47:11.392Z"
   },
   {
    "duration": 0,
    "start_time": "2024-07-17T19:47:11.393Z"
   },
   {
    "duration": 0,
    "start_time": "2024-07-17T19:47:11.394Z"
   },
   {
    "duration": 0,
    "start_time": "2024-07-17T19:47:11.394Z"
   },
   {
    "duration": 0,
    "start_time": "2024-07-17T19:47:11.395Z"
   },
   {
    "duration": 0,
    "start_time": "2024-07-17T19:47:11.396Z"
   },
   {
    "duration": 0,
    "start_time": "2024-07-17T19:47:11.397Z"
   },
   {
    "duration": 0,
    "start_time": "2024-07-17T19:47:11.398Z"
   },
   {
    "duration": 0,
    "start_time": "2024-07-17T19:47:11.400Z"
   },
   {
    "duration": 0,
    "start_time": "2024-07-17T19:47:11.401Z"
   },
   {
    "duration": 0,
    "start_time": "2024-07-17T19:47:11.402Z"
   },
   {
    "duration": 0,
    "start_time": "2024-07-17T19:47:11.403Z"
   },
   {
    "duration": 0,
    "start_time": "2024-07-17T19:47:11.404Z"
   },
   {
    "duration": 0,
    "start_time": "2024-07-17T19:47:11.405Z"
   },
   {
    "duration": 0,
    "start_time": "2024-07-17T19:47:11.406Z"
   },
   {
    "duration": 0,
    "start_time": "2024-07-17T19:47:11.407Z"
   },
   {
    "duration": 0,
    "start_time": "2024-07-17T19:47:11.409Z"
   },
   {
    "duration": 0,
    "start_time": "2024-07-17T19:47:11.410Z"
   },
   {
    "duration": 0,
    "start_time": "2024-07-17T19:47:11.411Z"
   },
   {
    "duration": 0,
    "start_time": "2024-07-17T19:47:11.412Z"
   },
   {
    "duration": 0,
    "start_time": "2024-07-17T19:47:11.414Z"
   },
   {
    "duration": 0,
    "start_time": "2024-07-17T19:47:11.415Z"
   },
   {
    "duration": 0,
    "start_time": "2024-07-17T19:47:11.416Z"
   },
   {
    "duration": 0,
    "start_time": "2024-07-17T19:47:11.417Z"
   },
   {
    "duration": 0,
    "start_time": "2024-07-17T19:47:11.418Z"
   },
   {
    "duration": 0,
    "start_time": "2024-07-17T19:47:11.420Z"
   },
   {
    "duration": 0,
    "start_time": "2024-07-17T19:47:11.420Z"
   },
   {
    "duration": 0,
    "start_time": "2024-07-17T19:47:11.421Z"
   },
   {
    "duration": 0,
    "start_time": "2024-07-17T19:47:11.423Z"
   },
   {
    "duration": 0,
    "start_time": "2024-07-17T19:47:11.424Z"
   },
   {
    "duration": 0,
    "start_time": "2024-07-17T19:47:11.425Z"
   },
   {
    "duration": 0,
    "start_time": "2024-07-17T19:47:11.426Z"
   },
   {
    "duration": 0,
    "start_time": "2024-07-17T19:47:11.427Z"
   },
   {
    "duration": 1340,
    "start_time": "2024-07-17T19:47:29.260Z"
   },
   {
    "duration": 42,
    "start_time": "2024-07-17T19:47:30.602Z"
   },
   {
    "duration": 11,
    "start_time": "2024-07-17T19:47:30.645Z"
   },
   {
    "duration": 81,
    "start_time": "2024-07-17T19:47:30.658Z"
   },
   {
    "duration": 22,
    "start_time": "2024-07-17T19:47:30.741Z"
   },
   {
    "duration": 52,
    "start_time": "2024-07-17T19:47:30.764Z"
   },
   {
    "duration": 37,
    "start_time": "2024-07-17T19:47:30.818Z"
   },
   {
    "duration": 54,
    "start_time": "2024-07-17T19:47:30.856Z"
   },
   {
    "duration": 32,
    "start_time": "2024-07-17T19:47:30.912Z"
   },
   {
    "duration": 28,
    "start_time": "2024-07-17T19:47:30.947Z"
   },
   {
    "duration": 42,
    "start_time": "2024-07-17T19:47:30.977Z"
   },
   {
    "duration": 58,
    "start_time": "2024-07-17T19:47:31.021Z"
   },
   {
    "duration": 178,
    "start_time": "2024-07-17T19:47:31.081Z"
   },
   {
    "duration": 0,
    "start_time": "2024-07-17T19:47:31.261Z"
   },
   {
    "duration": 0,
    "start_time": "2024-07-17T19:47:31.263Z"
   },
   {
    "duration": 0,
    "start_time": "2024-07-17T19:47:31.264Z"
   },
   {
    "duration": 0,
    "start_time": "2024-07-17T19:47:31.265Z"
   },
   {
    "duration": 0,
    "start_time": "2024-07-17T19:47:31.267Z"
   },
   {
    "duration": 0,
    "start_time": "2024-07-17T19:47:31.268Z"
   },
   {
    "duration": 0,
    "start_time": "2024-07-17T19:47:31.270Z"
   },
   {
    "duration": 0,
    "start_time": "2024-07-17T19:47:31.289Z"
   },
   {
    "duration": 0,
    "start_time": "2024-07-17T19:47:31.290Z"
   },
   {
    "duration": 0,
    "start_time": "2024-07-17T19:47:31.291Z"
   },
   {
    "duration": 0,
    "start_time": "2024-07-17T19:47:31.291Z"
   },
   {
    "duration": 0,
    "start_time": "2024-07-17T19:47:31.292Z"
   },
   {
    "duration": 0,
    "start_time": "2024-07-17T19:47:31.293Z"
   },
   {
    "duration": 0,
    "start_time": "2024-07-17T19:47:31.294Z"
   },
   {
    "duration": 0,
    "start_time": "2024-07-17T19:47:31.300Z"
   },
   {
    "duration": 0,
    "start_time": "2024-07-17T19:47:31.303Z"
   },
   {
    "duration": 0,
    "start_time": "2024-07-17T19:47:31.304Z"
   },
   {
    "duration": 0,
    "start_time": "2024-07-17T19:47:31.304Z"
   },
   {
    "duration": 0,
    "start_time": "2024-07-17T19:47:31.305Z"
   },
   {
    "duration": 0,
    "start_time": "2024-07-17T19:47:31.308Z"
   },
   {
    "duration": 0,
    "start_time": "2024-07-17T19:47:31.309Z"
   },
   {
    "duration": 0,
    "start_time": "2024-07-17T19:47:31.311Z"
   },
   {
    "duration": 0,
    "start_time": "2024-07-17T19:47:31.312Z"
   },
   {
    "duration": 49,
    "start_time": "2024-07-18T06:22:27.848Z"
   },
   {
    "duration": 1202,
    "start_time": "2024-07-18T17:31:14.988Z"
   },
   {
    "duration": 114,
    "start_time": "2024-07-18T17:31:16.192Z"
   },
   {
    "duration": 13,
    "start_time": "2024-07-18T17:31:16.308Z"
   },
   {
    "duration": 188,
    "start_time": "2024-07-18T17:31:16.322Z"
   },
   {
    "duration": 10,
    "start_time": "2024-07-18T17:31:16.512Z"
   },
   {
    "duration": 107,
    "start_time": "2024-07-18T17:31:16.523Z"
   },
   {
    "duration": 9,
    "start_time": "2024-07-18T17:31:16.631Z"
   },
   {
    "duration": 13,
    "start_time": "2024-07-18T17:31:16.642Z"
   },
   {
    "duration": 11,
    "start_time": "2024-07-18T17:31:16.657Z"
   },
   {
    "duration": 17,
    "start_time": "2024-07-18T17:31:16.669Z"
   },
   {
    "duration": 5,
    "start_time": "2024-07-18T17:31:16.688Z"
   },
   {
    "duration": 5,
    "start_time": "2024-07-18T17:31:16.694Z"
   },
   {
    "duration": 11,
    "start_time": "2024-07-18T17:31:16.700Z"
   },
   {
    "duration": 4,
    "start_time": "2024-07-18T17:31:16.714Z"
   },
   {
    "duration": 143,
    "start_time": "2024-07-18T17:31:16.719Z"
   },
   {
    "duration": 0,
    "start_time": "2024-07-18T17:31:16.864Z"
   },
   {
    "duration": 0,
    "start_time": "2024-07-18T17:31:16.865Z"
   },
   {
    "duration": 0,
    "start_time": "2024-07-18T17:31:16.866Z"
   },
   {
    "duration": 0,
    "start_time": "2024-07-18T17:31:16.867Z"
   },
   {
    "duration": 0,
    "start_time": "2024-07-18T17:31:16.868Z"
   },
   {
    "duration": 0,
    "start_time": "2024-07-18T17:31:16.869Z"
   },
   {
    "duration": 0,
    "start_time": "2024-07-18T17:31:16.870Z"
   },
   {
    "duration": 0,
    "start_time": "2024-07-18T17:31:16.871Z"
   },
   {
    "duration": 0,
    "start_time": "2024-07-18T17:31:16.872Z"
   },
   {
    "duration": 0,
    "start_time": "2024-07-18T17:31:16.873Z"
   },
   {
    "duration": 0,
    "start_time": "2024-07-18T17:31:16.874Z"
   },
   {
    "duration": 0,
    "start_time": "2024-07-18T17:31:16.875Z"
   },
   {
    "duration": 1,
    "start_time": "2024-07-18T17:31:16.875Z"
   },
   {
    "duration": 0,
    "start_time": "2024-07-18T17:31:16.876Z"
   },
   {
    "duration": 0,
    "start_time": "2024-07-18T17:31:16.877Z"
   },
   {
    "duration": 0,
    "start_time": "2024-07-18T17:31:16.878Z"
   },
   {
    "duration": 0,
    "start_time": "2024-07-18T17:31:16.879Z"
   },
   {
    "duration": 0,
    "start_time": "2024-07-18T17:31:16.880Z"
   },
   {
    "duration": 0,
    "start_time": "2024-07-18T17:31:16.881Z"
   },
   {
    "duration": 0,
    "start_time": "2024-07-18T17:31:16.882Z"
   },
   {
    "duration": 0,
    "start_time": "2024-07-18T17:31:16.883Z"
   },
   {
    "duration": 1,
    "start_time": "2024-07-18T17:31:16.884Z"
   },
   {
    "duration": 0,
    "start_time": "2024-07-18T17:31:16.886Z"
   },
   {
    "duration": 17,
    "start_time": "2024-07-18T17:31:59.079Z"
   },
   {
    "duration": 8,
    "start_time": "2024-07-18T17:32:50.195Z"
   },
   {
    "duration": 1065,
    "start_time": "2024-07-18T17:32:50.370Z"
   },
   {
    "duration": 17,
    "start_time": "2024-07-18T17:33:27.394Z"
   },
   {
    "duration": 8213,
    "start_time": "2024-07-18T17:34:52.170Z"
   },
   {
    "duration": 48,
    "start_time": "2024-07-18T19:49:06.525Z"
   },
   {
    "duration": 1415,
    "start_time": "2024-07-18T19:49:12.353Z"
   },
   {
    "duration": 145,
    "start_time": "2024-07-18T19:49:13.770Z"
   },
   {
    "duration": 11,
    "start_time": "2024-07-18T19:49:13.916Z"
   },
   {
    "duration": 231,
    "start_time": "2024-07-18T19:49:13.929Z"
   },
   {
    "duration": 11,
    "start_time": "2024-07-18T19:49:14.161Z"
   },
   {
    "duration": 106,
    "start_time": "2024-07-18T19:49:14.174Z"
   },
   {
    "duration": 10,
    "start_time": "2024-07-18T19:49:14.282Z"
   },
   {
    "duration": 7,
    "start_time": "2024-07-18T19:49:14.294Z"
   },
   {
    "duration": 10,
    "start_time": "2024-07-18T19:49:14.303Z"
   },
   {
    "duration": 11,
    "start_time": "2024-07-18T19:49:14.315Z"
   },
   {
    "duration": 7,
    "start_time": "2024-07-18T19:49:14.327Z"
   },
   {
    "duration": 6,
    "start_time": "2024-07-18T19:49:14.335Z"
   },
   {
    "duration": 46,
    "start_time": "2024-07-18T19:49:14.343Z"
   },
   {
    "duration": 5,
    "start_time": "2024-07-18T19:49:14.391Z"
   },
   {
    "duration": 70,
    "start_time": "2024-07-18T19:49:14.397Z"
   },
   {
    "duration": 0,
    "start_time": "2024-07-18T19:49:14.469Z"
   },
   {
    "duration": 356,
    "start_time": "2024-07-18T19:49:25.139Z"
   },
   {
    "duration": 151,
    "start_time": "2024-07-18T19:51:54.743Z"
   },
   {
    "duration": 57,
    "start_time": "2024-07-18T19:52:51.932Z"
   },
   {
    "duration": 5,
    "start_time": "2024-07-18T19:54:44.593Z"
   },
   {
    "duration": 11,
    "start_time": "2024-07-18T19:54:45.953Z"
   },
   {
    "duration": 10,
    "start_time": "2024-07-18T19:55:06.738Z"
   },
   {
    "duration": 15,
    "start_time": "2024-07-18T19:55:26.602Z"
   },
   {
    "duration": 4,
    "start_time": "2024-07-18T19:55:39.320Z"
   },
   {
    "duration": 63,
    "start_time": "2024-07-18T19:55:39.325Z"
   },
   {
    "duration": 10,
    "start_time": "2024-07-18T19:55:39.389Z"
   },
   {
    "duration": 56,
    "start_time": "2024-07-18T19:55:39.401Z"
   },
   {
    "duration": 10,
    "start_time": "2024-07-18T19:55:39.459Z"
   },
   {
    "duration": 43,
    "start_time": "2024-07-18T19:55:39.470Z"
   },
   {
    "duration": 10,
    "start_time": "2024-07-18T19:55:39.515Z"
   },
   {
    "duration": 8,
    "start_time": "2024-07-18T19:55:39.527Z"
   },
   {
    "duration": 10,
    "start_time": "2024-07-18T19:55:39.538Z"
   },
   {
    "duration": 11,
    "start_time": "2024-07-18T19:55:39.550Z"
   },
   {
    "duration": 5,
    "start_time": "2024-07-18T19:55:39.563Z"
   },
   {
    "duration": 15,
    "start_time": "2024-07-18T19:55:39.569Z"
   },
   {
    "duration": 8,
    "start_time": "2024-07-18T19:55:39.585Z"
   },
   {
    "duration": 4,
    "start_time": "2024-07-18T19:55:39.594Z"
   },
   {
    "duration": 55,
    "start_time": "2024-07-18T19:55:39.600Z"
   },
   {
    "duration": 31,
    "start_time": "2024-07-18T19:55:39.656Z"
   },
   {
    "duration": 13,
    "start_time": "2024-07-18T19:55:39.689Z"
   },
   {
    "duration": 216,
    "start_time": "2024-07-18T19:55:39.704Z"
   },
   {
    "duration": 7,
    "start_time": "2024-07-18T19:55:39.921Z"
   },
   {
    "duration": 164,
    "start_time": "2024-07-18T19:55:39.929Z"
   },
   {
    "duration": 9,
    "start_time": "2024-07-18T19:55:40.094Z"
   },
   {
    "duration": 173,
    "start_time": "2024-07-18T19:55:40.105Z"
   },
   {
    "duration": 9,
    "start_time": "2024-07-18T19:55:40.283Z"
   },
   {
    "duration": 26,
    "start_time": "2024-07-18T19:55:40.295Z"
   },
   {
    "duration": 15,
    "start_time": "2024-07-18T19:55:40.322Z"
   },
   {
    "duration": 8,
    "start_time": "2024-07-18T19:55:40.339Z"
   },
   {
    "duration": 37,
    "start_time": "2024-07-18T19:55:40.349Z"
   },
   {
    "duration": 272,
    "start_time": "2024-07-18T19:55:40.388Z"
   },
   {
    "duration": 4,
    "start_time": "2024-07-18T19:55:40.662Z"
   },
   {
    "duration": 103,
    "start_time": "2024-07-18T19:55:40.668Z"
   },
   {
    "duration": 11,
    "start_time": "2024-07-18T19:55:40.773Z"
   },
   {
    "duration": 6,
    "start_time": "2024-07-18T19:55:40.785Z"
   },
   {
    "duration": 5,
    "start_time": "2024-07-18T19:55:40.793Z"
   },
   {
    "duration": 8,
    "start_time": "2024-07-18T19:55:40.800Z"
   },
   {
    "duration": 19968,
    "start_time": "2024-07-18T19:55:40.809Z"
   },
   {
    "duration": 381,
    "start_time": "2024-07-18T19:56:00.778Z"
   },
   {
    "duration": 5,
    "start_time": "2024-07-18T19:56:01.160Z"
   },
   {
    "duration": 172,
    "start_time": "2024-07-18T19:56:01.166Z"
   },
   {
    "duration": 1062,
    "start_time": "2024-07-18T20:04:50.546Z"
   },
   {
    "duration": 62,
    "start_time": "2024-07-18T20:04:51.610Z"
   },
   {
    "duration": 8,
    "start_time": "2024-07-18T20:04:51.674Z"
   },
   {
    "duration": 94,
    "start_time": "2024-07-18T20:04:51.684Z"
   },
   {
    "duration": 8,
    "start_time": "2024-07-18T20:04:51.779Z"
   },
   {
    "duration": 53,
    "start_time": "2024-07-18T20:04:51.788Z"
   },
   {
    "duration": 7,
    "start_time": "2024-07-18T20:04:51.842Z"
   },
   {
    "duration": 55,
    "start_time": "2024-07-18T20:04:51.850Z"
   },
   {
    "duration": 42,
    "start_time": "2024-07-18T20:04:51.907Z"
   },
   {
    "duration": 11,
    "start_time": "2024-07-18T20:04:51.951Z"
   },
   {
    "duration": 9,
    "start_time": "2024-07-18T20:04:51.963Z"
   },
   {
    "duration": 15,
    "start_time": "2024-07-18T20:04:51.973Z"
   },
   {
    "duration": 9,
    "start_time": "2024-07-18T20:04:51.989Z"
   },
   {
    "duration": 21,
    "start_time": "2024-07-18T20:04:52.000Z"
   },
   {
    "duration": 1293,
    "start_time": "2024-07-18T20:04:52.022Z"
   },
   {
    "duration": 8,
    "start_time": "2024-07-18T20:04:53.316Z"
   },
   {
    "duration": 27,
    "start_time": "2024-07-18T20:04:53.325Z"
   },
   {
    "duration": 181,
    "start_time": "2024-07-18T20:04:53.353Z"
   },
   {
    "duration": 6,
    "start_time": "2024-07-18T20:04:53.536Z"
   },
   {
    "duration": 135,
    "start_time": "2024-07-18T20:04:53.543Z"
   },
   {
    "duration": 7,
    "start_time": "2024-07-18T20:04:53.679Z"
   },
   {
    "duration": 185,
    "start_time": "2024-07-18T20:04:53.687Z"
   },
   {
    "duration": 7,
    "start_time": "2024-07-18T20:04:53.873Z"
   },
   {
    "duration": 42,
    "start_time": "2024-07-18T20:04:53.881Z"
   },
   {
    "duration": 11,
    "start_time": "2024-07-18T20:04:53.924Z"
   },
   {
    "duration": 11,
    "start_time": "2024-07-18T20:04:53.936Z"
   },
   {
    "duration": 6,
    "start_time": "2024-07-18T20:04:53.949Z"
   },
   {
    "duration": 246,
    "start_time": "2024-07-18T20:04:53.959Z"
   },
   {
    "duration": 3,
    "start_time": "2024-07-18T20:04:54.207Z"
   },
   {
    "duration": 35,
    "start_time": "2024-07-18T20:04:54.211Z"
   },
   {
    "duration": 9,
    "start_time": "2024-07-18T20:04:54.248Z"
   },
   {
    "duration": 7,
    "start_time": "2024-07-18T20:04:54.258Z"
   },
   {
    "duration": 16,
    "start_time": "2024-07-18T20:04:54.267Z"
   },
   {
    "duration": 12,
    "start_time": "2024-07-18T20:04:54.284Z"
   },
   {
    "duration": 17277,
    "start_time": "2024-07-18T20:04:54.297Z"
   },
   {
    "duration": 303,
    "start_time": "2024-07-18T20:05:11.575Z"
   },
   {
    "duration": 4,
    "start_time": "2024-07-18T20:05:11.879Z"
   },
   {
    "duration": 137,
    "start_time": "2024-07-18T20:05:11.884Z"
   },
   {
    "duration": 11,
    "start_time": "2024-07-18T20:07:29.664Z"
   },
   {
    "duration": 1310,
    "start_time": "2024-07-19T09:55:27.164Z"
   },
   {
    "duration": 147,
    "start_time": "2024-07-19T09:55:28.476Z"
   },
   {
    "duration": 10,
    "start_time": "2024-07-19T09:55:28.625Z"
   },
   {
    "duration": 210,
    "start_time": "2024-07-19T09:55:28.637Z"
   },
   {
    "duration": 8,
    "start_time": "2024-07-19T09:55:28.848Z"
   },
   {
    "duration": 213,
    "start_time": "2024-07-19T09:55:28.858Z"
   },
   {
    "duration": 8,
    "start_time": "2024-07-19T09:55:29.073Z"
   },
   {
    "duration": 15,
    "start_time": "2024-07-19T09:55:29.082Z"
   },
   {
    "duration": 22,
    "start_time": "2024-07-19T09:55:29.099Z"
   },
   {
    "duration": 16,
    "start_time": "2024-07-19T09:55:29.123Z"
   },
   {
    "duration": 7,
    "start_time": "2024-07-19T09:55:29.140Z"
   },
   {
    "duration": 20,
    "start_time": "2024-07-19T09:55:29.148Z"
   },
   {
    "duration": 10,
    "start_time": "2024-07-19T09:55:29.169Z"
   },
   {
    "duration": 104,
    "start_time": "2024-07-19T09:55:29.181Z"
   },
   {
    "duration": 377,
    "start_time": "2024-07-19T09:55:29.286Z"
   },
   {
    "duration": 8,
    "start_time": "2024-07-19T09:55:29.665Z"
   },
   {
    "duration": 106,
    "start_time": "2024-07-19T09:55:29.674Z"
   },
   {
    "duration": 143,
    "start_time": "2024-07-19T09:55:29.781Z"
   },
   {
    "duration": 7,
    "start_time": "2024-07-19T09:55:29.925Z"
   },
   {
    "duration": 160,
    "start_time": "2024-07-19T09:55:29.933Z"
   },
   {
    "duration": 18,
    "start_time": "2024-07-19T09:55:30.095Z"
   },
   {
    "duration": 234,
    "start_time": "2024-07-19T09:55:30.115Z"
   },
   {
    "duration": 167,
    "start_time": "2024-07-19T09:55:30.351Z"
   },
   {
    "duration": 14,
    "start_time": "2024-07-19T09:56:44.193Z"
   },
   {
    "duration": 1299,
    "start_time": "2024-07-19T12:48:12.472Z"
   },
   {
    "duration": 140,
    "start_time": "2024-07-19T12:48:13.774Z"
   },
   {
    "duration": 12,
    "start_time": "2024-07-19T12:48:13.916Z"
   },
   {
    "duration": 197,
    "start_time": "2024-07-19T12:48:13.930Z"
   },
   {
    "duration": 11,
    "start_time": "2024-07-19T12:48:14.128Z"
   },
   {
    "duration": 105,
    "start_time": "2024-07-19T12:48:14.141Z"
   },
   {
    "duration": 10,
    "start_time": "2024-07-19T12:48:14.248Z"
   },
   {
    "duration": 8,
    "start_time": "2024-07-19T12:48:14.259Z"
   },
   {
    "duration": 11,
    "start_time": "2024-07-19T12:48:14.269Z"
   },
   {
    "duration": 11,
    "start_time": "2024-07-19T12:48:14.283Z"
   },
   {
    "duration": 5,
    "start_time": "2024-07-19T12:48:14.295Z"
   },
   {
    "duration": 22,
    "start_time": "2024-07-19T12:48:14.302Z"
   },
   {
    "duration": 8,
    "start_time": "2024-07-19T12:48:14.326Z"
   },
   {
    "duration": 4,
    "start_time": "2024-07-19T12:48:14.336Z"
   },
   {
    "duration": 1122,
    "start_time": "2024-07-19T12:48:14.342Z"
   },
   {
    "duration": 13,
    "start_time": "2024-07-19T12:48:15.466Z"
   },
   {
    "duration": 21,
    "start_time": "2024-07-19T12:48:15.481Z"
   },
   {
    "duration": 227,
    "start_time": "2024-07-19T12:48:15.503Z"
   },
   {
    "duration": 8,
    "start_time": "2024-07-19T12:48:15.731Z"
   },
   {
    "duration": 189,
    "start_time": "2024-07-19T12:48:15.741Z"
   },
   {
    "duration": 9,
    "start_time": "2024-07-19T12:48:15.931Z"
   },
   {
    "duration": 250,
    "start_time": "2024-07-19T12:48:15.941Z"
   },
   {
    "duration": 8,
    "start_time": "2024-07-19T12:48:16.193Z"
   },
   {
    "duration": 27,
    "start_time": "2024-07-19T12:48:16.203Z"
   },
   {
    "duration": 27,
    "start_time": "2024-07-19T12:48:16.231Z"
   },
   {
    "duration": 14,
    "start_time": "2024-07-19T12:48:16.259Z"
   },
   {
    "duration": 8,
    "start_time": "2024-07-19T12:48:16.274Z"
   },
   {
    "duration": 6,
    "start_time": "2024-07-19T12:48:16.285Z"
   },
   {
    "duration": 293,
    "start_time": "2024-07-19T12:48:16.292Z"
   },
   {
    "duration": 4,
    "start_time": "2024-07-19T12:48:16.587Z"
   },
   {
    "duration": 41,
    "start_time": "2024-07-19T12:48:16.592Z"
   },
   {
    "duration": 11,
    "start_time": "2024-07-19T12:48:16.634Z"
   },
   {
    "duration": 12,
    "start_time": "2024-07-19T12:48:16.646Z"
   },
   {
    "duration": 4,
    "start_time": "2024-07-19T12:48:16.660Z"
   },
   {
    "duration": 7,
    "start_time": "2024-07-19T12:48:16.666Z"
   },
   {
    "duration": 21534,
    "start_time": "2024-07-19T12:48:16.675Z"
   },
   {
    "duration": 404,
    "start_time": "2024-07-19T12:48:38.211Z"
   },
   {
    "duration": 10,
    "start_time": "2024-07-19T12:48:38.617Z"
   },
   {
    "duration": 171,
    "start_time": "2024-07-19T12:48:38.628Z"
   }
  ],
  "kernelspec": {
   "display_name": "Python 3 (ipykernel)",
   "language": "python",
   "name": "python3"
  },
  "language_info": {
   "codemirror_mode": {
    "name": "ipython",
    "version": 3
   },
   "file_extension": ".py",
   "mimetype": "text/x-python",
   "name": "python",
   "nbconvert_exporter": "python",
   "pygments_lexer": "ipython3",
   "version": "3.11.5"
  },
  "toc": {
   "base_numbering": 1,
   "nav_menu": {},
   "number_sections": true,
   "sideBar": true,
   "skip_h1_title": true,
   "title_cell": "Table of Contents",
   "title_sidebar": "Contents",
   "toc_cell": true,
   "toc_position": {},
   "toc_section_display": true,
   "toc_window_display": true
  },
  "varInspector": {
   "cols": {
    "lenName": 16,
    "lenType": 16,
    "lenVar": 40
   },
   "kernels_config": {
    "python": {
     "delete_cmd_postfix": "",
     "delete_cmd_prefix": "del ",
     "library": "var_list.py",
     "varRefreshCmd": "print(var_dic_list())"
    },
    "r": {
     "delete_cmd_postfix": ") ",
     "delete_cmd_prefix": "rm(",
     "library": "var_list.r",
     "varRefreshCmd": "cat(var_dic_list()) "
    }
   },
   "types_to_exclude": [
    "module",
    "function",
    "builtin_function_or_method",
    "instance",
    "_Feature"
   ],
   "window_display": false
  }
 },
 "nbformat": 4,
 "nbformat_minor": 5
}
